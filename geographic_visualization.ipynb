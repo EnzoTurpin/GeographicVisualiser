{
 "cells": [
  {
   "cell_type": "raw",
   "metadata": {
    "vscode": {
     "languageId": "raw"
    }
   },
   "source": [
    "# Visualisation Géographique avec Python\n",
    "\n",
    "Ce notebook présente comment créer des visualisations géographiques en Python en utilisant différentes bibliothèques.\n"
   ]
  },
  {
   "cell_type": "code",
   "execution_count": 25,
   "metadata": {},
   "outputs": [],
   "source": [
    "# Installation des bibliothèques nécessaires\n",
    "# Décommentez et exécutez ces lignes si vous n'avez pas déjà installé ces bibliothèques\n",
    "# !pip install folium\n",
    "# !pip install geopandas\n",
    "# !pip install matplotlib\n",
    "# !pip install plotly\n",
    "# !pip install pandas\n"
   ]
  },
  {
   "cell_type": "code",
   "execution_count": 26,
   "metadata": {},
   "outputs": [],
   "source": [
    "# Importation des bibliothèques\n",
    "import pandas as pd\n",
    "import matplotlib.pyplot as plt\n",
    "import folium\n",
    "from folium.plugins import MarkerCluster\n",
    "import plotly.express as px\n",
    "\n",
    "# Pour éviter les warnings\n",
    "import warnings\n",
    "warnings.filterwarnings('ignore')\n"
   ]
  },
  {
   "cell_type": "raw",
   "metadata": {
    "vscode": {
     "languageId": "raw"
    }
   },
   "source": [
    "## 1. Création d'un jeu de données exemple\n",
    "\n",
    "Pour commencer, nous allons créer un exemple de jeu de données contenant des villes françaises avec leurs coordonnées.\n"
   ]
  },
  {
   "cell_type": "code",
   "execution_count": 38,
   "metadata": {},
   "outputs": [
    {
     "data": {
      "text/html": [
       "<div>\n",
       "<style scoped>\n",
       "    .dataframe tbody tr th:only-of-type {\n",
       "        vertical-align: middle;\n",
       "    }\n",
       "\n",
       "    .dataframe tbody tr th {\n",
       "        vertical-align: top;\n",
       "    }\n",
       "\n",
       "    .dataframe thead th {\n",
       "        text-align: right;\n",
       "    }\n",
       "</style>\n",
       "<table border=\"1\" class=\"dataframe\">\n",
       "  <thead>\n",
       "    <tr style=\"text-align: right;\">\n",
       "      <th></th>\n",
       "      <th>Ville</th>\n",
       "      <th>Latitude</th>\n",
       "      <th>Longitude</th>\n",
       "      <th>Population</th>\n",
       "      <th>Catégorie</th>\n",
       "    </tr>\n",
       "  </thead>\n",
       "  <tbody>\n",
       "    <tr>\n",
       "      <th>0</th>\n",
       "      <td>Paris</td>\n",
       "      <td>48.8566</td>\n",
       "      <td>2.3522</td>\n",
       "      <td>2187526</td>\n",
       "      <td>Capitale</td>\n",
       "    </tr>\n",
       "    <tr>\n",
       "      <th>1</th>\n",
       "      <td>Marseille</td>\n",
       "      <td>43.2965</td>\n",
       "      <td>5.3698</td>\n",
       "      <td>863310</td>\n",
       "      <td>Métropole</td>\n",
       "    </tr>\n",
       "    <tr>\n",
       "      <th>2</th>\n",
       "      <td>Lyon</td>\n",
       "      <td>45.7640</td>\n",
       "      <td>4.8357</td>\n",
       "      <td>516092</td>\n",
       "      <td>Métropole</td>\n",
       "    </tr>\n",
       "    <tr>\n",
       "      <th>3</th>\n",
       "      <td>Toulouse</td>\n",
       "      <td>43.6047</td>\n",
       "      <td>1.4442</td>\n",
       "      <td>479553</td>\n",
       "      <td>Métropole</td>\n",
       "    </tr>\n",
       "    <tr>\n",
       "      <th>4</th>\n",
       "      <td>Nice</td>\n",
       "      <td>43.7102</td>\n",
       "      <td>7.2620</td>\n",
       "      <td>340017</td>\n",
       "      <td>Métropole</td>\n",
       "    </tr>\n",
       "    <tr>\n",
       "      <th>5</th>\n",
       "      <td>Nantes</td>\n",
       "      <td>47.2184</td>\n",
       "      <td>-1.5536</td>\n",
       "      <td>309346</td>\n",
       "      <td>Métropole</td>\n",
       "    </tr>\n",
       "    <tr>\n",
       "      <th>6</th>\n",
       "      <td>Strasbourg</td>\n",
       "      <td>48.5734</td>\n",
       "      <td>7.7521</td>\n",
       "      <td>280966</td>\n",
       "      <td>Métropole</td>\n",
       "    </tr>\n",
       "    <tr>\n",
       "      <th>7</th>\n",
       "      <td>Montpellier</td>\n",
       "      <td>43.6112</td>\n",
       "      <td>3.8767</td>\n",
       "      <td>282143</td>\n",
       "      <td>Métropole</td>\n",
       "    </tr>\n",
       "    <tr>\n",
       "      <th>8</th>\n",
       "      <td>Bordeaux</td>\n",
       "      <td>44.8378</td>\n",
       "      <td>-0.5792</td>\n",
       "      <td>254436</td>\n",
       "      <td>Métropole</td>\n",
       "    </tr>\n",
       "    <tr>\n",
       "      <th>9</th>\n",
       "      <td>Lille</td>\n",
       "      <td>50.6292</td>\n",
       "      <td>3.0573</td>\n",
       "      <td>232787</td>\n",
       "      <td>Métropole</td>\n",
       "    </tr>\n",
       "    <tr>\n",
       "      <th>10</th>\n",
       "      <td>Rennes</td>\n",
       "      <td>48.1173</td>\n",
       "      <td>-1.6778</td>\n",
       "      <td>216815</td>\n",
       "      <td>Métropole</td>\n",
       "    </tr>\n",
       "  </tbody>\n",
       "</table>\n",
       "</div>"
      ],
      "text/plain": [
       "          Ville  Latitude  Longitude  Population  Catégorie\n",
       "0         Paris   48.8566     2.3522     2187526   Capitale\n",
       "1     Marseille   43.2965     5.3698      863310  Métropole\n",
       "2          Lyon   45.7640     4.8357      516092  Métropole\n",
       "3      Toulouse   43.6047     1.4442      479553  Métropole\n",
       "4          Nice   43.7102     7.2620      340017  Métropole\n",
       "5        Nantes   47.2184    -1.5536      309346  Métropole\n",
       "6    Strasbourg   48.5734     7.7521      280966  Métropole\n",
       "7   Montpellier   43.6112     3.8767      282143  Métropole\n",
       "8      Bordeaux   44.8378    -0.5792      254436  Métropole\n",
       "9         Lille   50.6292     3.0573      232787  Métropole\n",
       "10       Rennes   48.1173    -1.6778      216815  Métropole"
      ]
     },
     "execution_count": 38,
     "metadata": {},
     "output_type": "execute_result"
    }
   ],
   "source": [
    "# Création d'un DataFrame avec quelques villes françaises (incluant Rennes)\n",
    "data = {\n",
    "    'Ville': ['Paris', 'Marseille', 'Lyon', 'Toulouse', 'Nice', 'Nantes', 'Strasbourg', 'Montpellier', 'Bordeaux', 'Lille', 'Rennes'],\n",
    "    'Latitude': [48.8566, 43.2965, 45.7640, 43.6047, 43.7102, 47.2184, 48.5734, 43.6112, 44.8378, 50.6292, 48.1173],\n",
    "    'Longitude': [2.3522, 5.3698, 4.8357, 1.4442, 7.2620, -1.5536, 7.7521, 3.8767, -0.5792, 3.0573, -1.6778],\n",
    "    'Population': [2187526, 863310, 516092, 479553, 340017, 309346, 280966, 282143, 254436, 232787, 216815],\n",
    "    'Catégorie': ['Capitale', 'Métropole', 'Métropole', 'Métropole', 'Métropole', 'Métropole', 'Métropole', 'Métropole', 'Métropole', 'Métropole', 'Métropole']\n",
    "}\n",
    "\n",
    "df = pd.DataFrame(data)\n",
    "df.head(12)\n"
   ]
  },
  {
   "cell_type": "raw",
   "metadata": {
    "vscode": {
     "languageId": "raw"
    }
   },
   "source": [
    "## 2. Visualisation avec Folium\n",
    "\n",
    "Folium est une bibliothèque puissante pour créer des cartes interactives. C'est un wrapper Python pour la bibliothèque JavaScript Leaflet.\n"
   ]
  },
  {
   "cell_type": "code",
   "execution_count": 29,
   "metadata": {},
   "outputs": [
    {
     "data": {
      "text/html": [
       "<div style=\"width:100%;\"><div style=\"position:relative;width:100%;height:0;padding-bottom:60%;\"><span style=\"color:#565656\">Make this Notebook Trusted to load map: File -> Trust Notebook</span><iframe srcdoc=\"&lt;!DOCTYPE html&gt;\n",
       "&lt;html&gt;\n",
       "&lt;head&gt;\n",
       "    \n",
       "    &lt;meta http-equiv=&quot;content-type&quot; content=&quot;text/html; charset=UTF-8&quot; /&gt;\n",
       "    &lt;script src=&quot;https://cdn.jsdelivr.net/npm/leaflet@1.9.3/dist/leaflet.js&quot;&gt;&lt;/script&gt;\n",
       "    &lt;script src=&quot;https://code.jquery.com/jquery-3.7.1.min.js&quot;&gt;&lt;/script&gt;\n",
       "    &lt;script src=&quot;https://cdn.jsdelivr.net/npm/bootstrap@5.2.2/dist/js/bootstrap.bundle.min.js&quot;&gt;&lt;/script&gt;\n",
       "    &lt;script src=&quot;https://cdnjs.cloudflare.com/ajax/libs/Leaflet.awesome-markers/2.0.2/leaflet.awesome-markers.js&quot;&gt;&lt;/script&gt;\n",
       "    &lt;link rel=&quot;stylesheet&quot; href=&quot;https://cdn.jsdelivr.net/npm/leaflet@1.9.3/dist/leaflet.css&quot;/&gt;\n",
       "    &lt;link rel=&quot;stylesheet&quot; href=&quot;https://cdn.jsdelivr.net/npm/bootstrap@5.2.2/dist/css/bootstrap.min.css&quot;/&gt;\n",
       "    &lt;link rel=&quot;stylesheet&quot; href=&quot;https://netdna.bootstrapcdn.com/bootstrap/3.0.0/css/bootstrap-glyphicons.css&quot;/&gt;\n",
       "    &lt;link rel=&quot;stylesheet&quot; href=&quot;https://cdn.jsdelivr.net/npm/@fortawesome/fontawesome-free@6.2.0/css/all.min.css&quot;/&gt;\n",
       "    &lt;link rel=&quot;stylesheet&quot; href=&quot;https://cdnjs.cloudflare.com/ajax/libs/Leaflet.awesome-markers/2.0.2/leaflet.awesome-markers.css&quot;/&gt;\n",
       "    &lt;link rel=&quot;stylesheet&quot; href=&quot;https://cdn.jsdelivr.net/gh/python-visualization/folium/folium/templates/leaflet.awesome.rotate.min.css&quot;/&gt;\n",
       "    \n",
       "            &lt;meta name=&quot;viewport&quot; content=&quot;width=device-width,\n",
       "                initial-scale=1.0, maximum-scale=1.0, user-scalable=no&quot; /&gt;\n",
       "            &lt;style&gt;\n",
       "                #map_2e069bae4937e466b33c99c27d3de1de {\n",
       "                    position: relative;\n",
       "                    width: 100.0%;\n",
       "                    height: 100.0%;\n",
       "                    left: 0.0%;\n",
       "                    top: 0.0%;\n",
       "                }\n",
       "                .leaflet-container { font-size: 1rem; }\n",
       "            &lt;/style&gt;\n",
       "\n",
       "            &lt;style&gt;html, body {\n",
       "                width: 100%;\n",
       "                height: 100%;\n",
       "                margin: 0;\n",
       "                padding: 0;\n",
       "            }\n",
       "            &lt;/style&gt;\n",
       "\n",
       "            &lt;style&gt;#map {\n",
       "                position:absolute;\n",
       "                top:0;\n",
       "                bottom:0;\n",
       "                right:0;\n",
       "                left:0;\n",
       "                }\n",
       "            &lt;/style&gt;\n",
       "\n",
       "            &lt;script&gt;\n",
       "                L_NO_TOUCH = false;\n",
       "                L_DISABLE_3D = false;\n",
       "            &lt;/script&gt;\n",
       "\n",
       "        \n",
       "&lt;/head&gt;\n",
       "&lt;body&gt;\n",
       "    \n",
       "    \n",
       "            &lt;div class=&quot;folium-map&quot; id=&quot;map_2e069bae4937e466b33c99c27d3de1de&quot; &gt;&lt;/div&gt;\n",
       "        \n",
       "&lt;/body&gt;\n",
       "&lt;script&gt;\n",
       "    \n",
       "    \n",
       "            var map_2e069bae4937e466b33c99c27d3de1de = L.map(\n",
       "                &quot;map_2e069bae4937e466b33c99c27d3de1de&quot;,\n",
       "                {\n",
       "                    center: [46.603354, 1.888334],\n",
       "                    crs: L.CRS.EPSG3857,\n",
       "                    ...{\n",
       "  &quot;zoom&quot;: 6,\n",
       "  &quot;zoomControl&quot;: true,\n",
       "  &quot;preferCanvas&quot;: false,\n",
       "}\n",
       "\n",
       "                }\n",
       "            );\n",
       "\n",
       "            \n",
       "\n",
       "        \n",
       "    \n",
       "            var tile_layer_f4fa777f23151f37927a398375e8a6d7 = L.tileLayer(\n",
       "                &quot;https://tile.openstreetmap.org/{z}/{x}/{y}.png&quot;,\n",
       "                {\n",
       "  &quot;minZoom&quot;: 0,\n",
       "  &quot;maxZoom&quot;: 19,\n",
       "  &quot;maxNativeZoom&quot;: 19,\n",
       "  &quot;noWrap&quot;: false,\n",
       "  &quot;attribution&quot;: &quot;\\u0026copy; \\u003ca href=\\&quot;https://www.openstreetmap.org/copyright\\&quot;\\u003eOpenStreetMap\\u003c/a\\u003e contributors&quot;,\n",
       "  &quot;subdomains&quot;: &quot;abc&quot;,\n",
       "  &quot;detectRetina&quot;: false,\n",
       "  &quot;tms&quot;: false,\n",
       "  &quot;opacity&quot;: 1,\n",
       "}\n",
       "\n",
       "            );\n",
       "        \n",
       "    \n",
       "            tile_layer_f4fa777f23151f37927a398375e8a6d7.addTo(map_2e069bae4937e466b33c99c27d3de1de);\n",
       "        \n",
       "    \n",
       "            var marker_fdc48c11fa7c2bc2004dc097c888355e = L.marker(\n",
       "                [48.8566, 2.3522],\n",
       "                {\n",
       "}\n",
       "            ).addTo(map_2e069bae4937e466b33c99c27d3de1de);\n",
       "        \n",
       "    \n",
       "            var icon_56ddb7b134f972f52878bf721d1ae85b = L.AwesomeMarkers.icon(\n",
       "                {\n",
       "  &quot;markerColor&quot;: &quot;red&quot;,\n",
       "  &quot;iconColor&quot;: &quot;white&quot;,\n",
       "  &quot;icon&quot;: &quot;star&quot;,\n",
       "  &quot;prefix&quot;: &quot;glyphicon&quot;,\n",
       "  &quot;extraClasses&quot;: &quot;fa-rotate-0&quot;,\n",
       "}\n",
       "            );\n",
       "        \n",
       "    \n",
       "        var popup_f507cab99991679e163f2ff57fa96312 = L.popup({\n",
       "  &quot;maxWidth&quot;: &quot;100%&quot;,\n",
       "});\n",
       "\n",
       "        \n",
       "            \n",
       "                var html_54dae52bdad0eff74db9363a736aca3c = $(`&lt;div id=&quot;html_54dae52bdad0eff74db9363a736aca3c&quot; style=&quot;width: 100.0%; height: 100.0%;&quot;&gt;     &lt;b&gt;Paris&lt;/b&gt;&lt;br&gt;     Population: 2,187,526&lt;br&gt;     Catégorie: Capitale     &lt;/div&gt;`)[0];\n",
       "                popup_f507cab99991679e163f2ff57fa96312.setContent(html_54dae52bdad0eff74db9363a736aca3c);\n",
       "            \n",
       "        \n",
       "\n",
       "        marker_fdc48c11fa7c2bc2004dc097c888355e.bindPopup(popup_f507cab99991679e163f2ff57fa96312)\n",
       "        ;\n",
       "\n",
       "        \n",
       "    \n",
       "    \n",
       "                marker_fdc48c11fa7c2bc2004dc097c888355e.setIcon(icon_56ddb7b134f972f52878bf721d1ae85b);\n",
       "            \n",
       "    \n",
       "            var marker_8e1cdc22ad97953452e24aac1bf09299 = L.marker(\n",
       "                [43.2965, 5.3698],\n",
       "                {\n",
       "}\n",
       "            ).addTo(map_2e069bae4937e466b33c99c27d3de1de);\n",
       "        \n",
       "    \n",
       "            var icon_1eb0ef7a961e2012eb63d4a92a6f58ee = L.AwesomeMarkers.icon(\n",
       "                {\n",
       "  &quot;markerColor&quot;: &quot;blue&quot;,\n",
       "  &quot;iconColor&quot;: &quot;white&quot;,\n",
       "  &quot;icon&quot;: &quot;info-sign&quot;,\n",
       "  &quot;prefix&quot;: &quot;glyphicon&quot;,\n",
       "  &quot;extraClasses&quot;: &quot;fa-rotate-0&quot;,\n",
       "}\n",
       "            );\n",
       "        \n",
       "    \n",
       "        var popup_dd2abb20972cf370c9cebcfa1e98eda9 = L.popup({\n",
       "  &quot;maxWidth&quot;: &quot;100%&quot;,\n",
       "});\n",
       "\n",
       "        \n",
       "            \n",
       "                var html_2137ce2a3ccc15e14eeac4a2d0eb440d = $(`&lt;div id=&quot;html_2137ce2a3ccc15e14eeac4a2d0eb440d&quot; style=&quot;width: 100.0%; height: 100.0%;&quot;&gt;     &lt;b&gt;Marseille&lt;/b&gt;&lt;br&gt;     Population: 863,310&lt;br&gt;     Catégorie: Métropole     &lt;/div&gt;`)[0];\n",
       "                popup_dd2abb20972cf370c9cebcfa1e98eda9.setContent(html_2137ce2a3ccc15e14eeac4a2d0eb440d);\n",
       "            \n",
       "        \n",
       "\n",
       "        marker_8e1cdc22ad97953452e24aac1bf09299.bindPopup(popup_dd2abb20972cf370c9cebcfa1e98eda9)\n",
       "        ;\n",
       "\n",
       "        \n",
       "    \n",
       "    \n",
       "                marker_8e1cdc22ad97953452e24aac1bf09299.setIcon(icon_1eb0ef7a961e2012eb63d4a92a6f58ee);\n",
       "            \n",
       "    \n",
       "            var marker_6bd6a104cf12888b037610bb91780330 = L.marker(\n",
       "                [45.764, 4.8357],\n",
       "                {\n",
       "}\n",
       "            ).addTo(map_2e069bae4937e466b33c99c27d3de1de);\n",
       "        \n",
       "    \n",
       "            var icon_cd3609110f1cf94d6e096af129d419ae = L.AwesomeMarkers.icon(\n",
       "                {\n",
       "  &quot;markerColor&quot;: &quot;blue&quot;,\n",
       "  &quot;iconColor&quot;: &quot;white&quot;,\n",
       "  &quot;icon&quot;: &quot;info-sign&quot;,\n",
       "  &quot;prefix&quot;: &quot;glyphicon&quot;,\n",
       "  &quot;extraClasses&quot;: &quot;fa-rotate-0&quot;,\n",
       "}\n",
       "            );\n",
       "        \n",
       "    \n",
       "        var popup_7b02ecc290ad674194bdcebdfabc1697 = L.popup({\n",
       "  &quot;maxWidth&quot;: &quot;100%&quot;,\n",
       "});\n",
       "\n",
       "        \n",
       "            \n",
       "                var html_c4b096bceac94423cebd92a53e06c547 = $(`&lt;div id=&quot;html_c4b096bceac94423cebd92a53e06c547&quot; style=&quot;width: 100.0%; height: 100.0%;&quot;&gt;     &lt;b&gt;Lyon&lt;/b&gt;&lt;br&gt;     Population: 516,092&lt;br&gt;     Catégorie: Métropole     &lt;/div&gt;`)[0];\n",
       "                popup_7b02ecc290ad674194bdcebdfabc1697.setContent(html_c4b096bceac94423cebd92a53e06c547);\n",
       "            \n",
       "        \n",
       "\n",
       "        marker_6bd6a104cf12888b037610bb91780330.bindPopup(popup_7b02ecc290ad674194bdcebdfabc1697)\n",
       "        ;\n",
       "\n",
       "        \n",
       "    \n",
       "    \n",
       "                marker_6bd6a104cf12888b037610bb91780330.setIcon(icon_cd3609110f1cf94d6e096af129d419ae);\n",
       "            \n",
       "    \n",
       "            var marker_9171ec2d42d0ea75a9635fddc74af3d2 = L.marker(\n",
       "                [43.6047, 1.4442],\n",
       "                {\n",
       "}\n",
       "            ).addTo(map_2e069bae4937e466b33c99c27d3de1de);\n",
       "        \n",
       "    \n",
       "            var icon_5afcddb5de67df05904312c053630935 = L.AwesomeMarkers.icon(\n",
       "                {\n",
       "  &quot;markerColor&quot;: &quot;blue&quot;,\n",
       "  &quot;iconColor&quot;: &quot;white&quot;,\n",
       "  &quot;icon&quot;: &quot;info-sign&quot;,\n",
       "  &quot;prefix&quot;: &quot;glyphicon&quot;,\n",
       "  &quot;extraClasses&quot;: &quot;fa-rotate-0&quot;,\n",
       "}\n",
       "            );\n",
       "        \n",
       "    \n",
       "        var popup_ad8bc83d5f57a94bf00a495dd8e4db65 = L.popup({\n",
       "  &quot;maxWidth&quot;: &quot;100%&quot;,\n",
       "});\n",
       "\n",
       "        \n",
       "            \n",
       "                var html_9216b0dffd67d32a2bb9579bf55fa37b = $(`&lt;div id=&quot;html_9216b0dffd67d32a2bb9579bf55fa37b&quot; style=&quot;width: 100.0%; height: 100.0%;&quot;&gt;     &lt;b&gt;Toulouse&lt;/b&gt;&lt;br&gt;     Population: 479,553&lt;br&gt;     Catégorie: Métropole     &lt;/div&gt;`)[0];\n",
       "                popup_ad8bc83d5f57a94bf00a495dd8e4db65.setContent(html_9216b0dffd67d32a2bb9579bf55fa37b);\n",
       "            \n",
       "        \n",
       "\n",
       "        marker_9171ec2d42d0ea75a9635fddc74af3d2.bindPopup(popup_ad8bc83d5f57a94bf00a495dd8e4db65)\n",
       "        ;\n",
       "\n",
       "        \n",
       "    \n",
       "    \n",
       "                marker_9171ec2d42d0ea75a9635fddc74af3d2.setIcon(icon_5afcddb5de67df05904312c053630935);\n",
       "            \n",
       "    \n",
       "            var marker_e24c9c595b52a652aa6e2d23129f905d = L.marker(\n",
       "                [43.7102, 7.262],\n",
       "                {\n",
       "}\n",
       "            ).addTo(map_2e069bae4937e466b33c99c27d3de1de);\n",
       "        \n",
       "    \n",
       "            var icon_55cff865fb56793468186a962ed2fdf8 = L.AwesomeMarkers.icon(\n",
       "                {\n",
       "  &quot;markerColor&quot;: &quot;blue&quot;,\n",
       "  &quot;iconColor&quot;: &quot;white&quot;,\n",
       "  &quot;icon&quot;: &quot;info-sign&quot;,\n",
       "  &quot;prefix&quot;: &quot;glyphicon&quot;,\n",
       "  &quot;extraClasses&quot;: &quot;fa-rotate-0&quot;,\n",
       "}\n",
       "            );\n",
       "        \n",
       "    \n",
       "        var popup_298e8728cb5cf9cb41747c64a1a5fd73 = L.popup({\n",
       "  &quot;maxWidth&quot;: &quot;100%&quot;,\n",
       "});\n",
       "\n",
       "        \n",
       "            \n",
       "                var html_5a07526f74c659d5950f797f0a04339b = $(`&lt;div id=&quot;html_5a07526f74c659d5950f797f0a04339b&quot; style=&quot;width: 100.0%; height: 100.0%;&quot;&gt;     &lt;b&gt;Nice&lt;/b&gt;&lt;br&gt;     Population: 340,017&lt;br&gt;     Catégorie: Métropole     &lt;/div&gt;`)[0];\n",
       "                popup_298e8728cb5cf9cb41747c64a1a5fd73.setContent(html_5a07526f74c659d5950f797f0a04339b);\n",
       "            \n",
       "        \n",
       "\n",
       "        marker_e24c9c595b52a652aa6e2d23129f905d.bindPopup(popup_298e8728cb5cf9cb41747c64a1a5fd73)\n",
       "        ;\n",
       "\n",
       "        \n",
       "    \n",
       "    \n",
       "                marker_e24c9c595b52a652aa6e2d23129f905d.setIcon(icon_55cff865fb56793468186a962ed2fdf8);\n",
       "            \n",
       "    \n",
       "            var marker_f1120dfcebd2a5e80fce6cd0b2de4a7f = L.marker(\n",
       "                [47.2184, -1.5536],\n",
       "                {\n",
       "}\n",
       "            ).addTo(map_2e069bae4937e466b33c99c27d3de1de);\n",
       "        \n",
       "    \n",
       "            var icon_b39a032d2899d6cfd637f27aa86e3095 = L.AwesomeMarkers.icon(\n",
       "                {\n",
       "  &quot;markerColor&quot;: &quot;blue&quot;,\n",
       "  &quot;iconColor&quot;: &quot;white&quot;,\n",
       "  &quot;icon&quot;: &quot;info-sign&quot;,\n",
       "  &quot;prefix&quot;: &quot;glyphicon&quot;,\n",
       "  &quot;extraClasses&quot;: &quot;fa-rotate-0&quot;,\n",
       "}\n",
       "            );\n",
       "        \n",
       "    \n",
       "        var popup_2e3f7ddae0632d7bd6a6562b820edd42 = L.popup({\n",
       "  &quot;maxWidth&quot;: &quot;100%&quot;,\n",
       "});\n",
       "\n",
       "        \n",
       "            \n",
       "                var html_8c345fade1dc58921819ed78c5fcc9ea = $(`&lt;div id=&quot;html_8c345fade1dc58921819ed78c5fcc9ea&quot; style=&quot;width: 100.0%; height: 100.0%;&quot;&gt;     &lt;b&gt;Nantes&lt;/b&gt;&lt;br&gt;     Population: 309,346&lt;br&gt;     Catégorie: Métropole     &lt;/div&gt;`)[0];\n",
       "                popup_2e3f7ddae0632d7bd6a6562b820edd42.setContent(html_8c345fade1dc58921819ed78c5fcc9ea);\n",
       "            \n",
       "        \n",
       "\n",
       "        marker_f1120dfcebd2a5e80fce6cd0b2de4a7f.bindPopup(popup_2e3f7ddae0632d7bd6a6562b820edd42)\n",
       "        ;\n",
       "\n",
       "        \n",
       "    \n",
       "    \n",
       "                marker_f1120dfcebd2a5e80fce6cd0b2de4a7f.setIcon(icon_b39a032d2899d6cfd637f27aa86e3095);\n",
       "            \n",
       "    \n",
       "            var marker_cd42061951ff00f70fba048b17bc5316 = L.marker(\n",
       "                [48.5734, 7.7521],\n",
       "                {\n",
       "}\n",
       "            ).addTo(map_2e069bae4937e466b33c99c27d3de1de);\n",
       "        \n",
       "    \n",
       "            var icon_3f411aad41020b64db0eb2259a99ab7b = L.AwesomeMarkers.icon(\n",
       "                {\n",
       "  &quot;markerColor&quot;: &quot;blue&quot;,\n",
       "  &quot;iconColor&quot;: &quot;white&quot;,\n",
       "  &quot;icon&quot;: &quot;info-sign&quot;,\n",
       "  &quot;prefix&quot;: &quot;glyphicon&quot;,\n",
       "  &quot;extraClasses&quot;: &quot;fa-rotate-0&quot;,\n",
       "}\n",
       "            );\n",
       "        \n",
       "    \n",
       "        var popup_2649e8b303d33032c0eabfcf01c6d6bc = L.popup({\n",
       "  &quot;maxWidth&quot;: &quot;100%&quot;,\n",
       "});\n",
       "\n",
       "        \n",
       "            \n",
       "                var html_163b4e1bf711462138faea2f62584923 = $(`&lt;div id=&quot;html_163b4e1bf711462138faea2f62584923&quot; style=&quot;width: 100.0%; height: 100.0%;&quot;&gt;     &lt;b&gt;Strasbourg&lt;/b&gt;&lt;br&gt;     Population: 280,966&lt;br&gt;     Catégorie: Métropole     &lt;/div&gt;`)[0];\n",
       "                popup_2649e8b303d33032c0eabfcf01c6d6bc.setContent(html_163b4e1bf711462138faea2f62584923);\n",
       "            \n",
       "        \n",
       "\n",
       "        marker_cd42061951ff00f70fba048b17bc5316.bindPopup(popup_2649e8b303d33032c0eabfcf01c6d6bc)\n",
       "        ;\n",
       "\n",
       "        \n",
       "    \n",
       "    \n",
       "                marker_cd42061951ff00f70fba048b17bc5316.setIcon(icon_3f411aad41020b64db0eb2259a99ab7b);\n",
       "            \n",
       "    \n",
       "            var marker_9118e2a99b60da7f1acc69e71a1be49a = L.marker(\n",
       "                [43.6112, 3.8767],\n",
       "                {\n",
       "}\n",
       "            ).addTo(map_2e069bae4937e466b33c99c27d3de1de);\n",
       "        \n",
       "    \n",
       "            var icon_a9ffd9d315a3b9696f9743d9454fbc25 = L.AwesomeMarkers.icon(\n",
       "                {\n",
       "  &quot;markerColor&quot;: &quot;blue&quot;,\n",
       "  &quot;iconColor&quot;: &quot;white&quot;,\n",
       "  &quot;icon&quot;: &quot;info-sign&quot;,\n",
       "  &quot;prefix&quot;: &quot;glyphicon&quot;,\n",
       "  &quot;extraClasses&quot;: &quot;fa-rotate-0&quot;,\n",
       "}\n",
       "            );\n",
       "        \n",
       "    \n",
       "        var popup_fc21cf0d1be215b70425f1e7f1898726 = L.popup({\n",
       "  &quot;maxWidth&quot;: &quot;100%&quot;,\n",
       "});\n",
       "\n",
       "        \n",
       "            \n",
       "                var html_5bcc978ac86dd4d146a2159720ea1e2f = $(`&lt;div id=&quot;html_5bcc978ac86dd4d146a2159720ea1e2f&quot; style=&quot;width: 100.0%; height: 100.0%;&quot;&gt;     &lt;b&gt;Montpellier&lt;/b&gt;&lt;br&gt;     Population: 282,143&lt;br&gt;     Catégorie: Métropole     &lt;/div&gt;`)[0];\n",
       "                popup_fc21cf0d1be215b70425f1e7f1898726.setContent(html_5bcc978ac86dd4d146a2159720ea1e2f);\n",
       "            \n",
       "        \n",
       "\n",
       "        marker_9118e2a99b60da7f1acc69e71a1be49a.bindPopup(popup_fc21cf0d1be215b70425f1e7f1898726)\n",
       "        ;\n",
       "\n",
       "        \n",
       "    \n",
       "    \n",
       "                marker_9118e2a99b60da7f1acc69e71a1be49a.setIcon(icon_a9ffd9d315a3b9696f9743d9454fbc25);\n",
       "            \n",
       "    \n",
       "            var marker_59f0f2cdf7673c6a4e705fbbb4846ed3 = L.marker(\n",
       "                [44.8378, -0.5792],\n",
       "                {\n",
       "}\n",
       "            ).addTo(map_2e069bae4937e466b33c99c27d3de1de);\n",
       "        \n",
       "    \n",
       "            var icon_2ce35672b019803bef5a852f3a7c17bd = L.AwesomeMarkers.icon(\n",
       "                {\n",
       "  &quot;markerColor&quot;: &quot;blue&quot;,\n",
       "  &quot;iconColor&quot;: &quot;white&quot;,\n",
       "  &quot;icon&quot;: &quot;info-sign&quot;,\n",
       "  &quot;prefix&quot;: &quot;glyphicon&quot;,\n",
       "  &quot;extraClasses&quot;: &quot;fa-rotate-0&quot;,\n",
       "}\n",
       "            );\n",
       "        \n",
       "    \n",
       "        var popup_e43cd3895960bb36222b6f534f2ee02d = L.popup({\n",
       "  &quot;maxWidth&quot;: &quot;100%&quot;,\n",
       "});\n",
       "\n",
       "        \n",
       "            \n",
       "                var html_d56e74723b1f8a9aa46c7989544dae29 = $(`&lt;div id=&quot;html_d56e74723b1f8a9aa46c7989544dae29&quot; style=&quot;width: 100.0%; height: 100.0%;&quot;&gt;     &lt;b&gt;Bordeaux&lt;/b&gt;&lt;br&gt;     Population: 254,436&lt;br&gt;     Catégorie: Métropole     &lt;/div&gt;`)[0];\n",
       "                popup_e43cd3895960bb36222b6f534f2ee02d.setContent(html_d56e74723b1f8a9aa46c7989544dae29);\n",
       "            \n",
       "        \n",
       "\n",
       "        marker_59f0f2cdf7673c6a4e705fbbb4846ed3.bindPopup(popup_e43cd3895960bb36222b6f534f2ee02d)\n",
       "        ;\n",
       "\n",
       "        \n",
       "    \n",
       "    \n",
       "                marker_59f0f2cdf7673c6a4e705fbbb4846ed3.setIcon(icon_2ce35672b019803bef5a852f3a7c17bd);\n",
       "            \n",
       "    \n",
       "            var marker_e978d29cd26a336977a5a7a65ae2b812 = L.marker(\n",
       "                [50.6292, 3.0573],\n",
       "                {\n",
       "}\n",
       "            ).addTo(map_2e069bae4937e466b33c99c27d3de1de);\n",
       "        \n",
       "    \n",
       "            var icon_d6259384615733ebace6297c7bf34df1 = L.AwesomeMarkers.icon(\n",
       "                {\n",
       "  &quot;markerColor&quot;: &quot;blue&quot;,\n",
       "  &quot;iconColor&quot;: &quot;white&quot;,\n",
       "  &quot;icon&quot;: &quot;info-sign&quot;,\n",
       "  &quot;prefix&quot;: &quot;glyphicon&quot;,\n",
       "  &quot;extraClasses&quot;: &quot;fa-rotate-0&quot;,\n",
       "}\n",
       "            );\n",
       "        \n",
       "    \n",
       "        var popup_cc6875bef7725d391b162148ab501e4d = L.popup({\n",
       "  &quot;maxWidth&quot;: &quot;100%&quot;,\n",
       "});\n",
       "\n",
       "        \n",
       "            \n",
       "                var html_3b0b5a0c67b090f16203a416856f58a3 = $(`&lt;div id=&quot;html_3b0b5a0c67b090f16203a416856f58a3&quot; style=&quot;width: 100.0%; height: 100.0%;&quot;&gt;     &lt;b&gt;Lille&lt;/b&gt;&lt;br&gt;     Population: 232,787&lt;br&gt;     Catégorie: Métropole     &lt;/div&gt;`)[0];\n",
       "                popup_cc6875bef7725d391b162148ab501e4d.setContent(html_3b0b5a0c67b090f16203a416856f58a3);\n",
       "            \n",
       "        \n",
       "\n",
       "        marker_e978d29cd26a336977a5a7a65ae2b812.bindPopup(popup_cc6875bef7725d391b162148ab501e4d)\n",
       "        ;\n",
       "\n",
       "        \n",
       "    \n",
       "    \n",
       "                marker_e978d29cd26a336977a5a7a65ae2b812.setIcon(icon_d6259384615733ebace6297c7bf34df1);\n",
       "            \n",
       "    \n",
       "            var marker_bee5cf6fe0aa7e4e1842e22e2f4c1f25 = L.marker(\n",
       "                [48.1173, -1.6778],\n",
       "                {\n",
       "}\n",
       "            ).addTo(map_2e069bae4937e466b33c99c27d3de1de);\n",
       "        \n",
       "    \n",
       "            var icon_1ad923ea88318f430b4bc3bf81076871 = L.AwesomeMarkers.icon(\n",
       "                {\n",
       "  &quot;markerColor&quot;: &quot;green&quot;,\n",
       "  &quot;iconColor&quot;: &quot;white&quot;,\n",
       "  &quot;icon&quot;: &quot;info-sign&quot;,\n",
       "  &quot;prefix&quot;: &quot;glyphicon&quot;,\n",
       "  &quot;extraClasses&quot;: &quot;fa-rotate-0&quot;,\n",
       "}\n",
       "            );\n",
       "        \n",
       "    \n",
       "        var popup_082ddd5b57ddb00aba8727cf444d67b7 = L.popup({\n",
       "  &quot;maxWidth&quot;: &quot;100%&quot;,\n",
       "});\n",
       "\n",
       "        \n",
       "            \n",
       "                var html_8fd2b06f974a9cb3cd50854d04a18473 = $(`&lt;div id=&quot;html_8fd2b06f974a9cb3cd50854d04a18473&quot; style=&quot;width: 100.0%; height: 100.0%;&quot;&gt;     &lt;b&gt;Rennes&lt;/b&gt;&lt;br&gt;     Population: 216,815&lt;br&gt;     Catégorie: Métropole     &lt;/div&gt;`)[0];\n",
       "                popup_082ddd5b57ddb00aba8727cf444d67b7.setContent(html_8fd2b06f974a9cb3cd50854d04a18473);\n",
       "            \n",
       "        \n",
       "\n",
       "        marker_bee5cf6fe0aa7e4e1842e22e2f4c1f25.bindPopup(popup_082ddd5b57ddb00aba8727cf444d67b7)\n",
       "        ;\n",
       "\n",
       "        \n",
       "    \n",
       "    \n",
       "                marker_bee5cf6fe0aa7e4e1842e22e2f4c1f25.setIcon(icon_1ad923ea88318f430b4bc3bf81076871);\n",
       "            \n",
       "&lt;/script&gt;\n",
       "&lt;/html&gt;\" style=\"position:absolute;width:100%;height:100%;left:0;top:0;border:none !important;\" allowfullscreen webkitallowfullscreen mozallowfullscreen></iframe></div></div>"
      ],
      "text/plain": [
       "<folium.folium.Map at 0x1ffcc6a4950>"
      ]
     },
     "execution_count": 29,
     "metadata": {},
     "output_type": "execute_result"
    }
   ],
   "source": [
    "# Création d'une carte centrée sur la France\n",
    "map_center = [46.603354, 1.888334]  # Centre approximatif de la France\n",
    "m = folium.Map(location=map_center, zoom_start=6)\n",
    "\n",
    "# Ajout des marqueurs pour chaque ville\n",
    "for idx, row in df.iterrows():\n",
    "    popup_text = f\"\"\"\n",
    "    <b>{row['Ville']}</b><br>\n",
    "    Population: {row['Population']:,}<br>\n",
    "    Catégorie: {row['Catégorie']}\n",
    "    \"\"\"\n",
    "    \n",
    "    # Différencier Paris et Rennes des autres villes\n",
    "    if row['Ville'] == 'Paris':\n",
    "        folium.Marker(\n",
    "            location=[row['Latitude'], row['Longitude']],\n",
    "            popup=popup_text,\n",
    "            icon=folium.Icon(color='red', icon='star')\n",
    "        ).add_to(m)\n",
    "    elif row['Ville'] == 'Rennes':\n",
    "        folium.Marker(\n",
    "            location=[row['Latitude'], row['Longitude']],\n",
    "            popup=popup_text,\n",
    "            icon=folium.Icon(color='green', icon='info-sign')\n",
    "        ).add_to(m)\n",
    "    else:\n",
    "        folium.Marker(\n",
    "            location=[row['Latitude'], row['Longitude']],\n",
    "            popup=popup_text,\n",
    "            icon=folium.Icon(color='blue', icon='info-sign')\n",
    "        ).add_to(m)\n",
    "\n",
    "# Affichage de la carte\n",
    "m\n"
   ]
  },
  {
   "cell_type": "raw",
   "metadata": {
    "vscode": {
     "languageId": "raw"
    }
   },
   "source": [
    "### Visualisation avec clusters\n",
    "\n",
    "Pour les cartes avec beaucoup de points, l'utilisation de clusters peut améliorer la lisibilité.\n"
   ]
  },
  {
   "cell_type": "code",
   "execution_count": 30,
   "metadata": {},
   "outputs": [
    {
     "data": {
      "text/html": [
       "<div style=\"width:100%;\"><div style=\"position:relative;width:100%;height:0;padding-bottom:60%;\"><span style=\"color:#565656\">Make this Notebook Trusted to load map: File -> Trust Notebook</span><iframe srcdoc=\"&lt;!DOCTYPE html&gt;\n",
       "&lt;html&gt;\n",
       "&lt;head&gt;\n",
       "    \n",
       "    &lt;meta http-equiv=&quot;content-type&quot; content=&quot;text/html; charset=UTF-8&quot; /&gt;\n",
       "    &lt;script src=&quot;https://cdn.jsdelivr.net/npm/leaflet@1.9.3/dist/leaflet.js&quot;&gt;&lt;/script&gt;\n",
       "    &lt;script src=&quot;https://code.jquery.com/jquery-3.7.1.min.js&quot;&gt;&lt;/script&gt;\n",
       "    &lt;script src=&quot;https://cdn.jsdelivr.net/npm/bootstrap@5.2.2/dist/js/bootstrap.bundle.min.js&quot;&gt;&lt;/script&gt;\n",
       "    &lt;script src=&quot;https://cdnjs.cloudflare.com/ajax/libs/Leaflet.awesome-markers/2.0.2/leaflet.awesome-markers.js&quot;&gt;&lt;/script&gt;\n",
       "    &lt;link rel=&quot;stylesheet&quot; href=&quot;https://cdn.jsdelivr.net/npm/leaflet@1.9.3/dist/leaflet.css&quot;/&gt;\n",
       "    &lt;link rel=&quot;stylesheet&quot; href=&quot;https://cdn.jsdelivr.net/npm/bootstrap@5.2.2/dist/css/bootstrap.min.css&quot;/&gt;\n",
       "    &lt;link rel=&quot;stylesheet&quot; href=&quot;https://netdna.bootstrapcdn.com/bootstrap/3.0.0/css/bootstrap-glyphicons.css&quot;/&gt;\n",
       "    &lt;link rel=&quot;stylesheet&quot; href=&quot;https://cdn.jsdelivr.net/npm/@fortawesome/fontawesome-free@6.2.0/css/all.min.css&quot;/&gt;\n",
       "    &lt;link rel=&quot;stylesheet&quot; href=&quot;https://cdnjs.cloudflare.com/ajax/libs/Leaflet.awesome-markers/2.0.2/leaflet.awesome-markers.css&quot;/&gt;\n",
       "    &lt;link rel=&quot;stylesheet&quot; href=&quot;https://cdn.jsdelivr.net/gh/python-visualization/folium/folium/templates/leaflet.awesome.rotate.min.css&quot;/&gt;\n",
       "    \n",
       "            &lt;meta name=&quot;viewport&quot; content=&quot;width=device-width,\n",
       "                initial-scale=1.0, maximum-scale=1.0, user-scalable=no&quot; /&gt;\n",
       "            &lt;style&gt;\n",
       "                #map_f5b92b09f7e308303ebeb7d68bd2bc87 {\n",
       "                    position: relative;\n",
       "                    width: 100.0%;\n",
       "                    height: 100.0%;\n",
       "                    left: 0.0%;\n",
       "                    top: 0.0%;\n",
       "                }\n",
       "                .leaflet-container { font-size: 1rem; }\n",
       "            &lt;/style&gt;\n",
       "\n",
       "            &lt;style&gt;html, body {\n",
       "                width: 100%;\n",
       "                height: 100%;\n",
       "                margin: 0;\n",
       "                padding: 0;\n",
       "            }\n",
       "            &lt;/style&gt;\n",
       "\n",
       "            &lt;style&gt;#map {\n",
       "                position:absolute;\n",
       "                top:0;\n",
       "                bottom:0;\n",
       "                right:0;\n",
       "                left:0;\n",
       "                }\n",
       "            &lt;/style&gt;\n",
       "\n",
       "            &lt;script&gt;\n",
       "                L_NO_TOUCH = false;\n",
       "                L_DISABLE_3D = false;\n",
       "            &lt;/script&gt;\n",
       "\n",
       "        \n",
       "    &lt;script src=&quot;https://cdnjs.cloudflare.com/ajax/libs/leaflet.markercluster/1.1.0/leaflet.markercluster.js&quot;&gt;&lt;/script&gt;\n",
       "    &lt;link rel=&quot;stylesheet&quot; href=&quot;https://cdnjs.cloudflare.com/ajax/libs/leaflet.markercluster/1.1.0/MarkerCluster.css&quot;/&gt;\n",
       "    &lt;link rel=&quot;stylesheet&quot; href=&quot;https://cdnjs.cloudflare.com/ajax/libs/leaflet.markercluster/1.1.0/MarkerCluster.Default.css&quot;/&gt;\n",
       "&lt;/head&gt;\n",
       "&lt;body&gt;\n",
       "    \n",
       "    \n",
       "            &lt;div class=&quot;folium-map&quot; id=&quot;map_f5b92b09f7e308303ebeb7d68bd2bc87&quot; &gt;&lt;/div&gt;\n",
       "        \n",
       "&lt;/body&gt;\n",
       "&lt;script&gt;\n",
       "    \n",
       "    \n",
       "            var map_f5b92b09f7e308303ebeb7d68bd2bc87 = L.map(\n",
       "                &quot;map_f5b92b09f7e308303ebeb7d68bd2bc87&quot;,\n",
       "                {\n",
       "                    center: [46.603354, 1.888334],\n",
       "                    crs: L.CRS.EPSG3857,\n",
       "                    ...{\n",
       "  &quot;zoom&quot;: 6,\n",
       "  &quot;zoomControl&quot;: true,\n",
       "  &quot;preferCanvas&quot;: false,\n",
       "}\n",
       "\n",
       "                }\n",
       "            );\n",
       "\n",
       "            \n",
       "\n",
       "        \n",
       "    \n",
       "            var tile_layer_d2b724e41363aff69cb43fc106f0626f = L.tileLayer(\n",
       "                &quot;https://tile.openstreetmap.org/{z}/{x}/{y}.png&quot;,\n",
       "                {\n",
       "  &quot;minZoom&quot;: 0,\n",
       "  &quot;maxZoom&quot;: 19,\n",
       "  &quot;maxNativeZoom&quot;: 19,\n",
       "  &quot;noWrap&quot;: false,\n",
       "  &quot;attribution&quot;: &quot;\\u0026copy; \\u003ca href=\\&quot;https://www.openstreetmap.org/copyright\\&quot;\\u003eOpenStreetMap\\u003c/a\\u003e contributors&quot;,\n",
       "  &quot;subdomains&quot;: &quot;abc&quot;,\n",
       "  &quot;detectRetina&quot;: false,\n",
       "  &quot;tms&quot;: false,\n",
       "  &quot;opacity&quot;: 1,\n",
       "}\n",
       "\n",
       "            );\n",
       "        \n",
       "    \n",
       "            tile_layer_d2b724e41363aff69cb43fc106f0626f.addTo(map_f5b92b09f7e308303ebeb7d68bd2bc87);\n",
       "        \n",
       "    \n",
       "            var marker_cluster_36c8afed12b9339dc9a4a6c8b79be804 = L.markerClusterGroup(\n",
       "                {\n",
       "}\n",
       "            );\n",
       "        \n",
       "    \n",
       "            var marker_4e223e9f56706a44138aa3b3be3254e2 = L.marker(\n",
       "                [48.8566, 2.3522],\n",
       "                {\n",
       "}\n",
       "            ).addTo(marker_cluster_36c8afed12b9339dc9a4a6c8b79be804);\n",
       "        \n",
       "    \n",
       "        var popup_3c4b3e0a2540aa7cc96c05028af27874 = L.popup({\n",
       "  &quot;maxWidth&quot;: &quot;100%&quot;,\n",
       "});\n",
       "\n",
       "        \n",
       "            \n",
       "                var html_7b0cbf90a824eddbb186a23f5fa56143 = $(`&lt;div id=&quot;html_7b0cbf90a824eddbb186a23f5fa56143&quot; style=&quot;width: 100.0%; height: 100.0%;&quot;&gt;     &lt;b&gt;Paris&lt;/b&gt;&lt;br&gt;     Population: 2,187,526&lt;br&gt;     Catégorie: Capitale     &lt;/div&gt;`)[0];\n",
       "                popup_3c4b3e0a2540aa7cc96c05028af27874.setContent(html_7b0cbf90a824eddbb186a23f5fa56143);\n",
       "            \n",
       "        \n",
       "\n",
       "        marker_4e223e9f56706a44138aa3b3be3254e2.bindPopup(popup_3c4b3e0a2540aa7cc96c05028af27874)\n",
       "        ;\n",
       "\n",
       "        \n",
       "    \n",
       "    \n",
       "            var marker_2d41024b71dd4912917d8e8912b40ea7 = L.marker(\n",
       "                [43.2965, 5.3698],\n",
       "                {\n",
       "}\n",
       "            ).addTo(marker_cluster_36c8afed12b9339dc9a4a6c8b79be804);\n",
       "        \n",
       "    \n",
       "        var popup_fe0cfb81bd11bdfabd1e80a91cf96397 = L.popup({\n",
       "  &quot;maxWidth&quot;: &quot;100%&quot;,\n",
       "});\n",
       "\n",
       "        \n",
       "            \n",
       "                var html_3651203820691bbeb56ceb4845d06255 = $(`&lt;div id=&quot;html_3651203820691bbeb56ceb4845d06255&quot; style=&quot;width: 100.0%; height: 100.0%;&quot;&gt;     &lt;b&gt;Marseille&lt;/b&gt;&lt;br&gt;     Population: 863,310&lt;br&gt;     Catégorie: Métropole     &lt;/div&gt;`)[0];\n",
       "                popup_fe0cfb81bd11bdfabd1e80a91cf96397.setContent(html_3651203820691bbeb56ceb4845d06255);\n",
       "            \n",
       "        \n",
       "\n",
       "        marker_2d41024b71dd4912917d8e8912b40ea7.bindPopup(popup_fe0cfb81bd11bdfabd1e80a91cf96397)\n",
       "        ;\n",
       "\n",
       "        \n",
       "    \n",
       "    \n",
       "            var marker_7c8a7f390cf0f449ffc2a9440d01f9d0 = L.marker(\n",
       "                [45.764, 4.8357],\n",
       "                {\n",
       "}\n",
       "            ).addTo(marker_cluster_36c8afed12b9339dc9a4a6c8b79be804);\n",
       "        \n",
       "    \n",
       "        var popup_80dc1b130bcb47eea05108585db11fe9 = L.popup({\n",
       "  &quot;maxWidth&quot;: &quot;100%&quot;,\n",
       "});\n",
       "\n",
       "        \n",
       "            \n",
       "                var html_8e68b3b8391fc3ba5c2cf0c25cbadd95 = $(`&lt;div id=&quot;html_8e68b3b8391fc3ba5c2cf0c25cbadd95&quot; style=&quot;width: 100.0%; height: 100.0%;&quot;&gt;     &lt;b&gt;Lyon&lt;/b&gt;&lt;br&gt;     Population: 516,092&lt;br&gt;     Catégorie: Métropole     &lt;/div&gt;`)[0];\n",
       "                popup_80dc1b130bcb47eea05108585db11fe9.setContent(html_8e68b3b8391fc3ba5c2cf0c25cbadd95);\n",
       "            \n",
       "        \n",
       "\n",
       "        marker_7c8a7f390cf0f449ffc2a9440d01f9d0.bindPopup(popup_80dc1b130bcb47eea05108585db11fe9)\n",
       "        ;\n",
       "\n",
       "        \n",
       "    \n",
       "    \n",
       "            var marker_7349a986f1f9ac66ea473ba1d98d5da5 = L.marker(\n",
       "                [43.6047, 1.4442],\n",
       "                {\n",
       "}\n",
       "            ).addTo(marker_cluster_36c8afed12b9339dc9a4a6c8b79be804);\n",
       "        \n",
       "    \n",
       "        var popup_c2372c2e9f08340b7d8df6bab479126b = L.popup({\n",
       "  &quot;maxWidth&quot;: &quot;100%&quot;,\n",
       "});\n",
       "\n",
       "        \n",
       "            \n",
       "                var html_2c00a1250bcd0846fefe7c59d79efcf9 = $(`&lt;div id=&quot;html_2c00a1250bcd0846fefe7c59d79efcf9&quot; style=&quot;width: 100.0%; height: 100.0%;&quot;&gt;     &lt;b&gt;Toulouse&lt;/b&gt;&lt;br&gt;     Population: 479,553&lt;br&gt;     Catégorie: Métropole     &lt;/div&gt;`)[0];\n",
       "                popup_c2372c2e9f08340b7d8df6bab479126b.setContent(html_2c00a1250bcd0846fefe7c59d79efcf9);\n",
       "            \n",
       "        \n",
       "\n",
       "        marker_7349a986f1f9ac66ea473ba1d98d5da5.bindPopup(popup_c2372c2e9f08340b7d8df6bab479126b)\n",
       "        ;\n",
       "\n",
       "        \n",
       "    \n",
       "    \n",
       "            var marker_dbff7e74a137203a9fa5fecd6993e1fa = L.marker(\n",
       "                [43.7102, 7.262],\n",
       "                {\n",
       "}\n",
       "            ).addTo(marker_cluster_36c8afed12b9339dc9a4a6c8b79be804);\n",
       "        \n",
       "    \n",
       "        var popup_71b2ffcbb33dd45953bca27c89cab14e = L.popup({\n",
       "  &quot;maxWidth&quot;: &quot;100%&quot;,\n",
       "});\n",
       "\n",
       "        \n",
       "            \n",
       "                var html_4bdd4ea5e2bd34e8efce2bb13076ad26 = $(`&lt;div id=&quot;html_4bdd4ea5e2bd34e8efce2bb13076ad26&quot; style=&quot;width: 100.0%; height: 100.0%;&quot;&gt;     &lt;b&gt;Nice&lt;/b&gt;&lt;br&gt;     Population: 340,017&lt;br&gt;     Catégorie: Métropole     &lt;/div&gt;`)[0];\n",
       "                popup_71b2ffcbb33dd45953bca27c89cab14e.setContent(html_4bdd4ea5e2bd34e8efce2bb13076ad26);\n",
       "            \n",
       "        \n",
       "\n",
       "        marker_dbff7e74a137203a9fa5fecd6993e1fa.bindPopup(popup_71b2ffcbb33dd45953bca27c89cab14e)\n",
       "        ;\n",
       "\n",
       "        \n",
       "    \n",
       "    \n",
       "            var marker_ae3e6fdd819ddfecc59091e366558256 = L.marker(\n",
       "                [47.2184, -1.5536],\n",
       "                {\n",
       "}\n",
       "            ).addTo(marker_cluster_36c8afed12b9339dc9a4a6c8b79be804);\n",
       "        \n",
       "    \n",
       "        var popup_a2031b3458d2807a2f4c31faf56abf1b = L.popup({\n",
       "  &quot;maxWidth&quot;: &quot;100%&quot;,\n",
       "});\n",
       "\n",
       "        \n",
       "            \n",
       "                var html_d91f25b53c1e0fd6a570e723b9fd4965 = $(`&lt;div id=&quot;html_d91f25b53c1e0fd6a570e723b9fd4965&quot; style=&quot;width: 100.0%; height: 100.0%;&quot;&gt;     &lt;b&gt;Nantes&lt;/b&gt;&lt;br&gt;     Population: 309,346&lt;br&gt;     Catégorie: Métropole     &lt;/div&gt;`)[0];\n",
       "                popup_a2031b3458d2807a2f4c31faf56abf1b.setContent(html_d91f25b53c1e0fd6a570e723b9fd4965);\n",
       "            \n",
       "        \n",
       "\n",
       "        marker_ae3e6fdd819ddfecc59091e366558256.bindPopup(popup_a2031b3458d2807a2f4c31faf56abf1b)\n",
       "        ;\n",
       "\n",
       "        \n",
       "    \n",
       "    \n",
       "            var marker_05e9c540f90ce2d8bf66ec6e8bc998fc = L.marker(\n",
       "                [48.5734, 7.7521],\n",
       "                {\n",
       "}\n",
       "            ).addTo(marker_cluster_36c8afed12b9339dc9a4a6c8b79be804);\n",
       "        \n",
       "    \n",
       "        var popup_8d32c02d36fd0db464afa51ad71464be = L.popup({\n",
       "  &quot;maxWidth&quot;: &quot;100%&quot;,\n",
       "});\n",
       "\n",
       "        \n",
       "            \n",
       "                var html_e5cf4dbc09a9dda63413a0adc883df56 = $(`&lt;div id=&quot;html_e5cf4dbc09a9dda63413a0adc883df56&quot; style=&quot;width: 100.0%; height: 100.0%;&quot;&gt;     &lt;b&gt;Strasbourg&lt;/b&gt;&lt;br&gt;     Population: 280,966&lt;br&gt;     Catégorie: Métropole     &lt;/div&gt;`)[0];\n",
       "                popup_8d32c02d36fd0db464afa51ad71464be.setContent(html_e5cf4dbc09a9dda63413a0adc883df56);\n",
       "            \n",
       "        \n",
       "\n",
       "        marker_05e9c540f90ce2d8bf66ec6e8bc998fc.bindPopup(popup_8d32c02d36fd0db464afa51ad71464be)\n",
       "        ;\n",
       "\n",
       "        \n",
       "    \n",
       "    \n",
       "            var marker_ca4294ea50e7912b410913a104c6c739 = L.marker(\n",
       "                [43.6112, 3.8767],\n",
       "                {\n",
       "}\n",
       "            ).addTo(marker_cluster_36c8afed12b9339dc9a4a6c8b79be804);\n",
       "        \n",
       "    \n",
       "        var popup_c646de8e7ed37ca0066286d70b35de5f = L.popup({\n",
       "  &quot;maxWidth&quot;: &quot;100%&quot;,\n",
       "});\n",
       "\n",
       "        \n",
       "            \n",
       "                var html_5bd931bd431e3619881b1f0b6da3f9cb = $(`&lt;div id=&quot;html_5bd931bd431e3619881b1f0b6da3f9cb&quot; style=&quot;width: 100.0%; height: 100.0%;&quot;&gt;     &lt;b&gt;Montpellier&lt;/b&gt;&lt;br&gt;     Population: 282,143&lt;br&gt;     Catégorie: Métropole     &lt;/div&gt;`)[0];\n",
       "                popup_c646de8e7ed37ca0066286d70b35de5f.setContent(html_5bd931bd431e3619881b1f0b6da3f9cb);\n",
       "            \n",
       "        \n",
       "\n",
       "        marker_ca4294ea50e7912b410913a104c6c739.bindPopup(popup_c646de8e7ed37ca0066286d70b35de5f)\n",
       "        ;\n",
       "\n",
       "        \n",
       "    \n",
       "    \n",
       "            var marker_aa4696da827456ffd7d3906c9ca22792 = L.marker(\n",
       "                [44.8378, -0.5792],\n",
       "                {\n",
       "}\n",
       "            ).addTo(marker_cluster_36c8afed12b9339dc9a4a6c8b79be804);\n",
       "        \n",
       "    \n",
       "        var popup_7599a678226013946c0f838347e5878f = L.popup({\n",
       "  &quot;maxWidth&quot;: &quot;100%&quot;,\n",
       "});\n",
       "\n",
       "        \n",
       "            \n",
       "                var html_ae1edbfc93a07465d503a5ea22dce8d6 = $(`&lt;div id=&quot;html_ae1edbfc93a07465d503a5ea22dce8d6&quot; style=&quot;width: 100.0%; height: 100.0%;&quot;&gt;     &lt;b&gt;Bordeaux&lt;/b&gt;&lt;br&gt;     Population: 254,436&lt;br&gt;     Catégorie: Métropole     &lt;/div&gt;`)[0];\n",
       "                popup_7599a678226013946c0f838347e5878f.setContent(html_ae1edbfc93a07465d503a5ea22dce8d6);\n",
       "            \n",
       "        \n",
       "\n",
       "        marker_aa4696da827456ffd7d3906c9ca22792.bindPopup(popup_7599a678226013946c0f838347e5878f)\n",
       "        ;\n",
       "\n",
       "        \n",
       "    \n",
       "    \n",
       "            var marker_c80bd9fb1980d40cd2169c705b4b62b0 = L.marker(\n",
       "                [50.6292, 3.0573],\n",
       "                {\n",
       "}\n",
       "            ).addTo(marker_cluster_36c8afed12b9339dc9a4a6c8b79be804);\n",
       "        \n",
       "    \n",
       "        var popup_92baa58a320cd2951b52d22535db84e9 = L.popup({\n",
       "  &quot;maxWidth&quot;: &quot;100%&quot;,\n",
       "});\n",
       "\n",
       "        \n",
       "            \n",
       "                var html_597742de68047cd3f0a6e2db9718dba3 = $(`&lt;div id=&quot;html_597742de68047cd3f0a6e2db9718dba3&quot; style=&quot;width: 100.0%; height: 100.0%;&quot;&gt;     &lt;b&gt;Lille&lt;/b&gt;&lt;br&gt;     Population: 232,787&lt;br&gt;     Catégorie: Métropole     &lt;/div&gt;`)[0];\n",
       "                popup_92baa58a320cd2951b52d22535db84e9.setContent(html_597742de68047cd3f0a6e2db9718dba3);\n",
       "            \n",
       "        \n",
       "\n",
       "        marker_c80bd9fb1980d40cd2169c705b4b62b0.bindPopup(popup_92baa58a320cd2951b52d22535db84e9)\n",
       "        ;\n",
       "\n",
       "        \n",
       "    \n",
       "    \n",
       "            var marker_9218e8bf2b5f368182481f32ce3bb82b = L.marker(\n",
       "                [48.1173, -1.6778],\n",
       "                {\n",
       "}\n",
       "            ).addTo(marker_cluster_36c8afed12b9339dc9a4a6c8b79be804);\n",
       "        \n",
       "    \n",
       "        var popup_60685e0e24577521be90eb1364d9f699 = L.popup({\n",
       "  &quot;maxWidth&quot;: &quot;100%&quot;,\n",
       "});\n",
       "\n",
       "        \n",
       "            \n",
       "                var html_57283ea679c3eebb048fb46b634d319e = $(`&lt;div id=&quot;html_57283ea679c3eebb048fb46b634d319e&quot; style=&quot;width: 100.0%; height: 100.0%;&quot;&gt;     &lt;b&gt;Rennes&lt;/b&gt;&lt;br&gt;     Population: 216,815&lt;br&gt;     Catégorie: Métropole     &lt;/div&gt;`)[0];\n",
       "                popup_60685e0e24577521be90eb1364d9f699.setContent(html_57283ea679c3eebb048fb46b634d319e);\n",
       "            \n",
       "        \n",
       "\n",
       "        marker_9218e8bf2b5f368182481f32ce3bb82b.bindPopup(popup_60685e0e24577521be90eb1364d9f699)\n",
       "        ;\n",
       "\n",
       "        \n",
       "    \n",
       "    \n",
       "            marker_cluster_36c8afed12b9339dc9a4a6c8b79be804.addTo(map_f5b92b09f7e308303ebeb7d68bd2bc87);\n",
       "        \n",
       "&lt;/script&gt;\n",
       "&lt;/html&gt;\" style=\"position:absolute;width:100%;height:100%;left:0;top:0;border:none !important;\" allowfullscreen webkitallowfullscreen mozallowfullscreen></iframe></div></div>"
      ],
      "text/plain": [
       "<folium.folium.Map at 0x1ffcc810990>"
      ]
     },
     "execution_count": 30,
     "metadata": {},
     "output_type": "execute_result"
    }
   ],
   "source": [
    "# Création d'une carte avec clusters\n",
    "m_cluster = folium.Map(location=map_center, zoom_start=6)\n",
    "\n",
    "# Ajouter un cluster de marqueurs\n",
    "marker_cluster = MarkerCluster().add_to(m_cluster)\n",
    "\n",
    "# Ajouter les marqueurs au cluster\n",
    "for idx, row in df.iterrows():\n",
    "    popup_text = f\"\"\"\n",
    "    <b>{row['Ville']}</b><br>\n",
    "    Population: {row['Population']:,}<br>\n",
    "    Catégorie: {row['Catégorie']}\n",
    "    \"\"\"\n",
    "    \n",
    "    folium.Marker(\n",
    "        location=[row['Latitude'], row['Longitude']],\n",
    "        popup=popup_text\n",
    "    ).add_to(marker_cluster)\n",
    "\n",
    "# Affichage de la carte\n",
    "m_cluster\n"
   ]
  },
  {
   "cell_type": "raw",
   "metadata": {
    "vscode": {
     "languageId": "raw"
    }
   },
   "source": [
    "### Visualisation avec cercles proportionnels\n",
    "\n",
    "Nous pouvons également représenter les données avec des cercles dont la taille est proportionnelle à la population.\n"
   ]
  },
  {
   "cell_type": "code",
   "execution_count": 31,
   "metadata": {},
   "outputs": [
    {
     "data": {
      "text/html": [
       "<div style=\"width:100%;\"><div style=\"position:relative;width:100%;height:0;padding-bottom:60%;\"><span style=\"color:#565656\">Make this Notebook Trusted to load map: File -> Trust Notebook</span><iframe srcdoc=\"&lt;!DOCTYPE html&gt;\n",
       "&lt;html&gt;\n",
       "&lt;head&gt;\n",
       "    \n",
       "    &lt;meta http-equiv=&quot;content-type&quot; content=&quot;text/html; charset=UTF-8&quot; /&gt;\n",
       "    &lt;script src=&quot;https://cdn.jsdelivr.net/npm/leaflet@1.9.3/dist/leaflet.js&quot;&gt;&lt;/script&gt;\n",
       "    &lt;script src=&quot;https://code.jquery.com/jquery-3.7.1.min.js&quot;&gt;&lt;/script&gt;\n",
       "    &lt;script src=&quot;https://cdn.jsdelivr.net/npm/bootstrap@5.2.2/dist/js/bootstrap.bundle.min.js&quot;&gt;&lt;/script&gt;\n",
       "    &lt;script src=&quot;https://cdnjs.cloudflare.com/ajax/libs/Leaflet.awesome-markers/2.0.2/leaflet.awesome-markers.js&quot;&gt;&lt;/script&gt;\n",
       "    &lt;link rel=&quot;stylesheet&quot; href=&quot;https://cdn.jsdelivr.net/npm/leaflet@1.9.3/dist/leaflet.css&quot;/&gt;\n",
       "    &lt;link rel=&quot;stylesheet&quot; href=&quot;https://cdn.jsdelivr.net/npm/bootstrap@5.2.2/dist/css/bootstrap.min.css&quot;/&gt;\n",
       "    &lt;link rel=&quot;stylesheet&quot; href=&quot;https://netdna.bootstrapcdn.com/bootstrap/3.0.0/css/bootstrap-glyphicons.css&quot;/&gt;\n",
       "    &lt;link rel=&quot;stylesheet&quot; href=&quot;https://cdn.jsdelivr.net/npm/@fortawesome/fontawesome-free@6.2.0/css/all.min.css&quot;/&gt;\n",
       "    &lt;link rel=&quot;stylesheet&quot; href=&quot;https://cdnjs.cloudflare.com/ajax/libs/Leaflet.awesome-markers/2.0.2/leaflet.awesome-markers.css&quot;/&gt;\n",
       "    &lt;link rel=&quot;stylesheet&quot; href=&quot;https://cdn.jsdelivr.net/gh/python-visualization/folium/folium/templates/leaflet.awesome.rotate.min.css&quot;/&gt;\n",
       "    \n",
       "            &lt;meta name=&quot;viewport&quot; content=&quot;width=device-width,\n",
       "                initial-scale=1.0, maximum-scale=1.0, user-scalable=no&quot; /&gt;\n",
       "            &lt;style&gt;\n",
       "                #map_ac470c62e9f665c931dccb6ba7ae857c {\n",
       "                    position: relative;\n",
       "                    width: 100.0%;\n",
       "                    height: 100.0%;\n",
       "                    left: 0.0%;\n",
       "                    top: 0.0%;\n",
       "                }\n",
       "                .leaflet-container { font-size: 1rem; }\n",
       "            &lt;/style&gt;\n",
       "\n",
       "            &lt;style&gt;html, body {\n",
       "                width: 100%;\n",
       "                height: 100%;\n",
       "                margin: 0;\n",
       "                padding: 0;\n",
       "            }\n",
       "            &lt;/style&gt;\n",
       "\n",
       "            &lt;style&gt;#map {\n",
       "                position:absolute;\n",
       "                top:0;\n",
       "                bottom:0;\n",
       "                right:0;\n",
       "                left:0;\n",
       "                }\n",
       "            &lt;/style&gt;\n",
       "\n",
       "            &lt;script&gt;\n",
       "                L_NO_TOUCH = false;\n",
       "                L_DISABLE_3D = false;\n",
       "            &lt;/script&gt;\n",
       "\n",
       "        \n",
       "&lt;/head&gt;\n",
       "&lt;body&gt;\n",
       "    \n",
       "    \n",
       "            &lt;div class=&quot;folium-map&quot; id=&quot;map_ac470c62e9f665c931dccb6ba7ae857c&quot; &gt;&lt;/div&gt;\n",
       "        \n",
       "&lt;/body&gt;\n",
       "&lt;script&gt;\n",
       "    \n",
       "    \n",
       "            var map_ac470c62e9f665c931dccb6ba7ae857c = L.map(\n",
       "                &quot;map_ac470c62e9f665c931dccb6ba7ae857c&quot;,\n",
       "                {\n",
       "                    center: [46.603354, 1.888334],\n",
       "                    crs: L.CRS.EPSG3857,\n",
       "                    ...{\n",
       "  &quot;zoom&quot;: 6,\n",
       "  &quot;zoomControl&quot;: true,\n",
       "  &quot;preferCanvas&quot;: false,\n",
       "}\n",
       "\n",
       "                }\n",
       "            );\n",
       "\n",
       "            \n",
       "\n",
       "        \n",
       "    \n",
       "            var tile_layer_b813bfa412719bfd2fcc200d3bcbdebf = L.tileLayer(\n",
       "                &quot;https://tile.openstreetmap.org/{z}/{x}/{y}.png&quot;,\n",
       "                {\n",
       "  &quot;minZoom&quot;: 0,\n",
       "  &quot;maxZoom&quot;: 19,\n",
       "  &quot;maxNativeZoom&quot;: 19,\n",
       "  &quot;noWrap&quot;: false,\n",
       "  &quot;attribution&quot;: &quot;\\u0026copy; \\u003ca href=\\&quot;https://www.openstreetmap.org/copyright\\&quot;\\u003eOpenStreetMap\\u003c/a\\u003e contributors&quot;,\n",
       "  &quot;subdomains&quot;: &quot;abc&quot;,\n",
       "  &quot;detectRetina&quot;: false,\n",
       "  &quot;tms&quot;: false,\n",
       "  &quot;opacity&quot;: 1,\n",
       "}\n",
       "\n",
       "            );\n",
       "        \n",
       "    \n",
       "            tile_layer_b813bfa412719bfd2fcc200d3bcbdebf.addTo(map_ac470c62e9f665c931dccb6ba7ae857c);\n",
       "        \n",
       "    \n",
       "            var circle_96fc37dc1fcab0382d399d02d83509fa = L.circle(\n",
       "                [48.8566, 2.3522],\n",
       "                {&quot;bubblingMouseEvents&quot;: true, &quot;color&quot;: &quot;red&quot;, &quot;dashArray&quot;: null, &quot;dashOffset&quot;: null, &quot;fill&quot;: true, &quot;fillColor&quot;: &quot;red&quot;, &quot;fillOpacity&quot;: 0.4, &quot;fillRule&quot;: &quot;evenodd&quot;, &quot;lineCap&quot;: &quot;round&quot;, &quot;lineJoin&quot;: &quot;round&quot;, &quot;opacity&quot;: 1.0, &quot;radius&quot;: 14790.287353530357, &quot;stroke&quot;: true, &quot;weight&quot;: 3}\n",
       "            ).addTo(map_ac470c62e9f665c931dccb6ba7ae857c);\n",
       "        \n",
       "    \n",
       "        var popup_a8762afa709dcf0e63a539cc67972ced = L.popup({\n",
       "  &quot;maxWidth&quot;: &quot;100%&quot;,\n",
       "});\n",
       "\n",
       "        \n",
       "            \n",
       "                var html_f4684d65b4de8fb24c435ecaf4b03763 = $(`&lt;div id=&quot;html_f4684d65b4de8fb24c435ecaf4b03763&quot; style=&quot;width: 100.0%; height: 100.0%;&quot;&gt;     &lt;b&gt;Paris&lt;/b&gt;&lt;br&gt;     Population: 2,187,526&lt;br&gt;     Catégorie: Capitale     &lt;/div&gt;`)[0];\n",
       "                popup_a8762afa709dcf0e63a539cc67972ced.setContent(html_f4684d65b4de8fb24c435ecaf4b03763);\n",
       "            \n",
       "        \n",
       "\n",
       "        circle_96fc37dc1fcab0382d399d02d83509fa.bindPopup(popup_a8762afa709dcf0e63a539cc67972ced)\n",
       "        ;\n",
       "\n",
       "        \n",
       "    \n",
       "    \n",
       "            var circle_8dc386a7fc72f1ab77e09bc9967bf51a = L.circle(\n",
       "                [43.2965, 5.3698],\n",
       "                {&quot;bubblingMouseEvents&quot;: true, &quot;color&quot;: &quot;blue&quot;, &quot;dashArray&quot;: null, &quot;dashOffset&quot;: null, &quot;fill&quot;: true, &quot;fillColor&quot;: &quot;blue&quot;, &quot;fillOpacity&quot;: 0.4, &quot;fillRule&quot;: &quot;evenodd&quot;, &quot;lineCap&quot;: &quot;round&quot;, &quot;lineJoin&quot;: &quot;round&quot;, &quot;opacity&quot;: 1.0, &quot;radius&quot;: 9291.447680528585, &quot;stroke&quot;: true, &quot;weight&quot;: 3}\n",
       "            ).addTo(map_ac470c62e9f665c931dccb6ba7ae857c);\n",
       "        \n",
       "    \n",
       "        var popup_b9f8563cacd67dc7804dfc0464133331 = L.popup({\n",
       "  &quot;maxWidth&quot;: &quot;100%&quot;,\n",
       "});\n",
       "\n",
       "        \n",
       "            \n",
       "                var html_1d407166385eb0ed245fb4be7ff6b6af = $(`&lt;div id=&quot;html_1d407166385eb0ed245fb4be7ff6b6af&quot; style=&quot;width: 100.0%; height: 100.0%;&quot;&gt;     &lt;b&gt;Marseille&lt;/b&gt;&lt;br&gt;     Population: 863,310&lt;br&gt;     Catégorie: Métropole     &lt;/div&gt;`)[0];\n",
       "                popup_b9f8563cacd67dc7804dfc0464133331.setContent(html_1d407166385eb0ed245fb4be7ff6b6af);\n",
       "            \n",
       "        \n",
       "\n",
       "        circle_8dc386a7fc72f1ab77e09bc9967bf51a.bindPopup(popup_b9f8563cacd67dc7804dfc0464133331)\n",
       "        ;\n",
       "\n",
       "        \n",
       "    \n",
       "    \n",
       "            var circle_53a18e427973122e271ab680c7a3f414 = L.circle(\n",
       "                [45.764, 4.8357],\n",
       "                {&quot;bubblingMouseEvents&quot;: true, &quot;color&quot;: &quot;blue&quot;, &quot;dashArray&quot;: null, &quot;dashOffset&quot;: null, &quot;fill&quot;: true, &quot;fillColor&quot;: &quot;blue&quot;, &quot;fillOpacity&quot;: 0.4, &quot;fillRule&quot;: &quot;evenodd&quot;, &quot;lineCap&quot;: &quot;round&quot;, &quot;lineJoin&quot;: &quot;round&quot;, &quot;opacity&quot;: 1.0, &quot;radius&quot;: 7183.954342839324, &quot;stroke&quot;: true, &quot;weight&quot;: 3}\n",
       "            ).addTo(map_ac470c62e9f665c931dccb6ba7ae857c);\n",
       "        \n",
       "    \n",
       "        var popup_ded010e8ece522fb6ba44c4b36570e1c = L.popup({\n",
       "  &quot;maxWidth&quot;: &quot;100%&quot;,\n",
       "});\n",
       "\n",
       "        \n",
       "            \n",
       "                var html_10bbf8e2b4cc73d9e8359e4b9f35748a = $(`&lt;div id=&quot;html_10bbf8e2b4cc73d9e8359e4b9f35748a&quot; style=&quot;width: 100.0%; height: 100.0%;&quot;&gt;     &lt;b&gt;Lyon&lt;/b&gt;&lt;br&gt;     Population: 516,092&lt;br&gt;     Catégorie: Métropole     &lt;/div&gt;`)[0];\n",
       "                popup_ded010e8ece522fb6ba44c4b36570e1c.setContent(html_10bbf8e2b4cc73d9e8359e4b9f35748a);\n",
       "            \n",
       "        \n",
       "\n",
       "        circle_53a18e427973122e271ab680c7a3f414.bindPopup(popup_ded010e8ece522fb6ba44c4b36570e1c)\n",
       "        ;\n",
       "\n",
       "        \n",
       "    \n",
       "    \n",
       "            var circle_abe4e0c09ae24609806852432b40c4e7 = L.circle(\n",
       "                [43.6047, 1.4442],\n",
       "                {&quot;bubblingMouseEvents&quot;: true, &quot;color&quot;: &quot;blue&quot;, &quot;dashArray&quot;: null, &quot;dashOffset&quot;: null, &quot;fill&quot;: true, &quot;fillColor&quot;: &quot;blue&quot;, &quot;fillOpacity&quot;: 0.4, &quot;fillRule&quot;: &quot;evenodd&quot;, &quot;lineCap&quot;: &quot;round&quot;, &quot;lineJoin&quot;: &quot;round&quot;, &quot;opacity&quot;: 1.0, &quot;radius&quot;: 6924.976534256271, &quot;stroke&quot;: true, &quot;weight&quot;: 3}\n",
       "            ).addTo(map_ac470c62e9f665c931dccb6ba7ae857c);\n",
       "        \n",
       "    \n",
       "        var popup_73e7c1cbb2d8aee2e5e3896b1ee72847 = L.popup({\n",
       "  &quot;maxWidth&quot;: &quot;100%&quot;,\n",
       "});\n",
       "\n",
       "        \n",
       "            \n",
       "                var html_41d94df5999d15864d81c3bdf4c47974 = $(`&lt;div id=&quot;html_41d94df5999d15864d81c3bdf4c47974&quot; style=&quot;width: 100.0%; height: 100.0%;&quot;&gt;     &lt;b&gt;Toulouse&lt;/b&gt;&lt;br&gt;     Population: 479,553&lt;br&gt;     Catégorie: Métropole     &lt;/div&gt;`)[0];\n",
       "                popup_73e7c1cbb2d8aee2e5e3896b1ee72847.setContent(html_41d94df5999d15864d81c3bdf4c47974);\n",
       "            \n",
       "        \n",
       "\n",
       "        circle_abe4e0c09ae24609806852432b40c4e7.bindPopup(popup_73e7c1cbb2d8aee2e5e3896b1ee72847)\n",
       "        ;\n",
       "\n",
       "        \n",
       "    \n",
       "    \n",
       "            var circle_f87de5e532cc92e83ef638df99ddc4dc = L.circle(\n",
       "                [43.7102, 7.262],\n",
       "                {&quot;bubblingMouseEvents&quot;: true, &quot;color&quot;: &quot;blue&quot;, &quot;dashArray&quot;: null, &quot;dashOffset&quot;: null, &quot;fill&quot;: true, &quot;fillColor&quot;: &quot;blue&quot;, &quot;fillOpacity&quot;: 0.4, &quot;fillRule&quot;: &quot;evenodd&quot;, &quot;lineCap&quot;: &quot;round&quot;, &quot;lineJoin&quot;: &quot;round&quot;, &quot;opacity&quot;: 1.0, &quot;radius&quot;: 5831.097666820544, &quot;stroke&quot;: true, &quot;weight&quot;: 3}\n",
       "            ).addTo(map_ac470c62e9f665c931dccb6ba7ae857c);\n",
       "        \n",
       "    \n",
       "        var popup_2f6347cf3af1e7cd8c13a71957dc48c4 = L.popup({\n",
       "  &quot;maxWidth&quot;: &quot;100%&quot;,\n",
       "});\n",
       "\n",
       "        \n",
       "            \n",
       "                var html_2084dda98c88453d4e7d6d3ebdc1f844 = $(`&lt;div id=&quot;html_2084dda98c88453d4e7d6d3ebdc1f844&quot; style=&quot;width: 100.0%; height: 100.0%;&quot;&gt;     &lt;b&gt;Nice&lt;/b&gt;&lt;br&gt;     Population: 340,017&lt;br&gt;     Catégorie: Métropole     &lt;/div&gt;`)[0];\n",
       "                popup_2f6347cf3af1e7cd8c13a71957dc48c4.setContent(html_2084dda98c88453d4e7d6d3ebdc1f844);\n",
       "            \n",
       "        \n",
       "\n",
       "        circle_f87de5e532cc92e83ef638df99ddc4dc.bindPopup(popup_2f6347cf3af1e7cd8c13a71957dc48c4)\n",
       "        ;\n",
       "\n",
       "        \n",
       "    \n",
       "    \n",
       "            var circle_0d9d99ea9f9878fd9d5ea603f1ff6a96 = L.circle(\n",
       "                [47.2184, -1.5536],\n",
       "                {&quot;bubblingMouseEvents&quot;: true, &quot;color&quot;: &quot;blue&quot;, &quot;dashArray&quot;: null, &quot;dashOffset&quot;: null, &quot;fill&quot;: true, &quot;fillColor&quot;: &quot;blue&quot;, &quot;fillOpacity&quot;: 0.4, &quot;fillRule&quot;: &quot;evenodd&quot;, &quot;lineCap&quot;: &quot;round&quot;, &quot;lineJoin&quot;: &quot;round&quot;, &quot;opacity&quot;: 1.0, &quot;radius&quot;: 5561.888168598862, &quot;stroke&quot;: true, &quot;weight&quot;: 3}\n",
       "            ).addTo(map_ac470c62e9f665c931dccb6ba7ae857c);\n",
       "        \n",
       "    \n",
       "        var popup_5c3778b47f9d6e6ec170c2c25bd75afb = L.popup({\n",
       "  &quot;maxWidth&quot;: &quot;100%&quot;,\n",
       "});\n",
       "\n",
       "        \n",
       "            \n",
       "                var html_ad275b9100f655c486508da1a6ae445d = $(`&lt;div id=&quot;html_ad275b9100f655c486508da1a6ae445d&quot; style=&quot;width: 100.0%; height: 100.0%;&quot;&gt;     &lt;b&gt;Nantes&lt;/b&gt;&lt;br&gt;     Population: 309,346&lt;br&gt;     Catégorie: Métropole     &lt;/div&gt;`)[0];\n",
       "                popup_5c3778b47f9d6e6ec170c2c25bd75afb.setContent(html_ad275b9100f655c486508da1a6ae445d);\n",
       "            \n",
       "        \n",
       "\n",
       "        circle_0d9d99ea9f9878fd9d5ea603f1ff6a96.bindPopup(popup_5c3778b47f9d6e6ec170c2c25bd75afb)\n",
       "        ;\n",
       "\n",
       "        \n",
       "    \n",
       "    \n",
       "            var circle_7239c2f9904dcfa25ef5f13dcf8f0b0b = L.circle(\n",
       "                [48.5734, 7.7521],\n",
       "                {&quot;bubblingMouseEvents&quot;: true, &quot;color&quot;: &quot;blue&quot;, &quot;dashArray&quot;: null, &quot;dashOffset&quot;: null, &quot;fill&quot;: true, &quot;fillColor&quot;: &quot;blue&quot;, &quot;fillOpacity&quot;: 0.4, &quot;fillRule&quot;: &quot;evenodd&quot;, &quot;lineCap&quot;: &quot;round&quot;, &quot;lineJoin&quot;: &quot;round&quot;, &quot;opacity&quot;: 1.0, &quot;radius&quot;: 5300.622604939914, &quot;stroke&quot;: true, &quot;weight&quot;: 3}\n",
       "            ).addTo(map_ac470c62e9f665c931dccb6ba7ae857c);\n",
       "        \n",
       "    \n",
       "        var popup_202254fc54aae9a1b816b0e8520f33ca = L.popup({\n",
       "  &quot;maxWidth&quot;: &quot;100%&quot;,\n",
       "});\n",
       "\n",
       "        \n",
       "            \n",
       "                var html_c3422b412ca5cf9107c5e79635074dd9 = $(`&lt;div id=&quot;html_c3422b412ca5cf9107c5e79635074dd9&quot; style=&quot;width: 100.0%; height: 100.0%;&quot;&gt;     &lt;b&gt;Strasbourg&lt;/b&gt;&lt;br&gt;     Population: 280,966&lt;br&gt;     Catégorie: Métropole     &lt;/div&gt;`)[0];\n",
       "                popup_202254fc54aae9a1b816b0e8520f33ca.setContent(html_c3422b412ca5cf9107c5e79635074dd9);\n",
       "            \n",
       "        \n",
       "\n",
       "        circle_7239c2f9904dcfa25ef5f13dcf8f0b0b.bindPopup(popup_202254fc54aae9a1b816b0e8520f33ca)\n",
       "        ;\n",
       "\n",
       "        \n",
       "    \n",
       "    \n",
       "            var circle_f7b1156b09c2259841aef5db7a2a0634 = L.circle(\n",
       "                [43.6112, 3.8767],\n",
       "                {&quot;bubblingMouseEvents&quot;: true, &quot;color&quot;: &quot;blue&quot;, &quot;dashArray&quot;: null, &quot;dashOffset&quot;: null, &quot;fill&quot;: true, &quot;fillColor&quot;: &quot;blue&quot;, &quot;fillOpacity&quot;: 0.4, &quot;fillRule&quot;: &quot;evenodd&quot;, &quot;lineCap&quot;: &quot;round&quot;, &quot;lineJoin&quot;: &quot;round&quot;, &quot;opacity&quot;: 1.0, &quot;radius&quot;: 5311.7134711879935, &quot;stroke&quot;: true, &quot;weight&quot;: 3}\n",
       "            ).addTo(map_ac470c62e9f665c931dccb6ba7ae857c);\n",
       "        \n",
       "    \n",
       "        var popup_82250736655d48d8eacd169247e4fb9b = L.popup({\n",
       "  &quot;maxWidth&quot;: &quot;100%&quot;,\n",
       "});\n",
       "\n",
       "        \n",
       "            \n",
       "                var html_2b1cfeaaa57e368e1e70fefcc83898c8 = $(`&lt;div id=&quot;html_2b1cfeaaa57e368e1e70fefcc83898c8&quot; style=&quot;width: 100.0%; height: 100.0%;&quot;&gt;     &lt;b&gt;Montpellier&lt;/b&gt;&lt;br&gt;     Population: 282,143&lt;br&gt;     Catégorie: Métropole     &lt;/div&gt;`)[0];\n",
       "                popup_82250736655d48d8eacd169247e4fb9b.setContent(html_2b1cfeaaa57e368e1e70fefcc83898c8);\n",
       "            \n",
       "        \n",
       "\n",
       "        circle_f7b1156b09c2259841aef5db7a2a0634.bindPopup(popup_82250736655d48d8eacd169247e4fb9b)\n",
       "        ;\n",
       "\n",
       "        \n",
       "    \n",
       "    \n",
       "            var circle_ad606ce918d270f8b7b47d94a3ad9a64 = L.circle(\n",
       "                [44.8378, -0.5792],\n",
       "                {&quot;bubblingMouseEvents&quot;: true, &quot;color&quot;: &quot;blue&quot;, &quot;dashArray&quot;: null, &quot;dashOffset&quot;: null, &quot;fill&quot;: true, &quot;fillColor&quot;: &quot;blue&quot;, &quot;fillOpacity&quot;: 0.4, &quot;fillRule&quot;: &quot;evenodd&quot;, &quot;lineCap&quot;: &quot;round&quot;, &quot;lineJoin&quot;: &quot;round&quot;, &quot;opacity&quot;: 1.0, &quot;radius&quot;: 5044.164945756632, &quot;stroke&quot;: true, &quot;weight&quot;: 3}\n",
       "            ).addTo(map_ac470c62e9f665c931dccb6ba7ae857c);\n",
       "        \n",
       "    \n",
       "        var popup_0f245cd7d31f047ed31762e5320de820 = L.popup({\n",
       "  &quot;maxWidth&quot;: &quot;100%&quot;,\n",
       "});\n",
       "\n",
       "        \n",
       "            \n",
       "                var html_6083c3961c7a49716b5717ff6cec3d37 = $(`&lt;div id=&quot;html_6083c3961c7a49716b5717ff6cec3d37&quot; style=&quot;width: 100.0%; height: 100.0%;&quot;&gt;     &lt;b&gt;Bordeaux&lt;/b&gt;&lt;br&gt;     Population: 254,436&lt;br&gt;     Catégorie: Métropole     &lt;/div&gt;`)[0];\n",
       "                popup_0f245cd7d31f047ed31762e5320de820.setContent(html_6083c3961c7a49716b5717ff6cec3d37);\n",
       "            \n",
       "        \n",
       "\n",
       "        circle_ad606ce918d270f8b7b47d94a3ad9a64.bindPopup(popup_0f245cd7d31f047ed31762e5320de820)\n",
       "        ;\n",
       "\n",
       "        \n",
       "    \n",
       "    \n",
       "            var circle_db1ea2321fc83dae31956996e3176bc7 = L.circle(\n",
       "                [50.6292, 3.0573],\n",
       "                {&quot;bubblingMouseEvents&quot;: true, &quot;color&quot;: &quot;blue&quot;, &quot;dashArray&quot;: null, &quot;dashOffset&quot;: null, &quot;fill&quot;: true, &quot;fillColor&quot;: &quot;blue&quot;, &quot;fillOpacity&quot;: 0.4, &quot;fillRule&quot;: &quot;evenodd&quot;, &quot;lineCap&quot;: &quot;round&quot;, &quot;lineJoin&quot;: &quot;round&quot;, &quot;opacity&quot;: 1.0, &quot;radius&quot;: 4824.800514010916, &quot;stroke&quot;: true, &quot;weight&quot;: 3}\n",
       "            ).addTo(map_ac470c62e9f665c931dccb6ba7ae857c);\n",
       "        \n",
       "    \n",
       "        var popup_accbb7e28767a62ad8d51b39559a9ef2 = L.popup({\n",
       "  &quot;maxWidth&quot;: &quot;100%&quot;,\n",
       "});\n",
       "\n",
       "        \n",
       "            \n",
       "                var html_f13e3c5efde96f1445ebc507e1de9fc8 = $(`&lt;div id=&quot;html_f13e3c5efde96f1445ebc507e1de9fc8&quot; style=&quot;width: 100.0%; height: 100.0%;&quot;&gt;     &lt;b&gt;Lille&lt;/b&gt;&lt;br&gt;     Population: 232,787&lt;br&gt;     Catégorie: Métropole     &lt;/div&gt;`)[0];\n",
       "                popup_accbb7e28767a62ad8d51b39559a9ef2.setContent(html_f13e3c5efde96f1445ebc507e1de9fc8);\n",
       "            \n",
       "        \n",
       "\n",
       "        circle_db1ea2321fc83dae31956996e3176bc7.bindPopup(popup_accbb7e28767a62ad8d51b39559a9ef2)\n",
       "        ;\n",
       "\n",
       "        \n",
       "    \n",
       "    \n",
       "            var circle_b0128677ae206f87aebf84333ba5e27a = L.circle(\n",
       "                [48.1173, -1.6778],\n",
       "                {&quot;bubblingMouseEvents&quot;: true, &quot;color&quot;: &quot;green&quot;, &quot;dashArray&quot;: null, &quot;dashOffset&quot;: null, &quot;fill&quot;: true, &quot;fillColor&quot;: &quot;green&quot;, &quot;fillOpacity&quot;: 0.4, &quot;fillRule&quot;: &quot;evenodd&quot;, &quot;lineCap&quot;: &quot;round&quot;, &quot;lineJoin&quot;: &quot;round&quot;, &quot;opacity&quot;: 1.0, &quot;radius&quot;: 4656.339764235423, &quot;stroke&quot;: true, &quot;weight&quot;: 3}\n",
       "            ).addTo(map_ac470c62e9f665c931dccb6ba7ae857c);\n",
       "        \n",
       "    \n",
       "        var popup_1d0f82d43da2c6ce83d440b047918836 = L.popup({\n",
       "  &quot;maxWidth&quot;: &quot;100%&quot;,\n",
       "});\n",
       "\n",
       "        \n",
       "            \n",
       "                var html_833b09c0a3606b5969c181ee6640fa2e = $(`&lt;div id=&quot;html_833b09c0a3606b5969c181ee6640fa2e&quot; style=&quot;width: 100.0%; height: 100.0%;&quot;&gt;     &lt;b&gt;Rennes&lt;/b&gt;&lt;br&gt;     Population: 216,815&lt;br&gt;     Catégorie: Métropole     &lt;/div&gt;`)[0];\n",
       "                popup_1d0f82d43da2c6ce83d440b047918836.setContent(html_833b09c0a3606b5969c181ee6640fa2e);\n",
       "            \n",
       "        \n",
       "\n",
       "        circle_b0128677ae206f87aebf84333ba5e27a.bindPopup(popup_1d0f82d43da2c6ce83d440b047918836)\n",
       "        ;\n",
       "\n",
       "        \n",
       "    \n",
       "&lt;/script&gt;\n",
       "&lt;/html&gt;\" style=\"position:absolute;width:100%;height:100%;left:0;top:0;border:none !important;\" allowfullscreen webkitallowfullscreen mozallowfullscreen></iframe></div></div>"
      ],
      "text/plain": [
       "<folium.folium.Map at 0x1ffcc89bad0>"
      ]
     },
     "execution_count": 31,
     "metadata": {},
     "output_type": "execute_result"
    }
   ],
   "source": [
    "# Création d'une carte avec des cercles proportionnels à la population\n",
    "m_circles = folium.Map(location=map_center, zoom_start=6)\n",
    "\n",
    "# Ajouter des cercles pour chaque ville, avec rayon proportionnel à la population\n",
    "for idx, row in df.iterrows():\n",
    "    popup_text = f\"\"\"\n",
    "    <b>{row['Ville']}</b><br>\n",
    "    Population: {row['Population']:,}<br>\n",
    "    Catégorie: {row['Catégorie']}\n",
    "    \"\"\"\n",
    "    \n",
    "    # Rayon proportionnel à la racine carrée de la population pour une meilleure visualisation\n",
    "    radius = (row['Population'] / 10000) ** 0.5 * 1000\n",
    "    \n",
    "    # Couleur spéciale pour Rennes\n",
    "    if row['Ville'] == 'Rennes':\n",
    "        color = 'green'\n",
    "    elif row['Ville'] == 'Paris':\n",
    "        color = 'red'\n",
    "    else:\n",
    "        color = 'blue'\n",
    "    \n",
    "    folium.Circle(\n",
    "        location=[row['Latitude'], row['Longitude']],\n",
    "        radius=radius,  # en mètres\n",
    "        popup=popup_text,\n",
    "        color=color,\n",
    "        fill=True,\n",
    "        fill_color=color,\n",
    "        fill_opacity=0.4\n",
    "    ).add_to(m_circles)\n",
    "\n",
    "# Affichage de la carte\n",
    "m_circles\n"
   ]
  },
  {
   "cell_type": "raw",
   "metadata": {
    "vscode": {
     "languageId": "raw"
    }
   },
   "source": [
    "## 3. Visualisation avec Plotly Express\n",
    "\n",
    "Plotly permet de créer des visualisations interactives, y compris des cartes géographiques.\n"
   ]
  },
  {
   "cell_type": "code",
   "execution_count": 32,
   "metadata": {},
   "outputs": [
    {
     "data": {
      "application/vnd.plotly.v1+json": {
       "config": {
        "plotlyServerURL": "https://plot.ly"
       },
       "data": [
        {
         "customdata": {
          "bdata": "BmEhAA==",
          "dtype": "i4",
          "shape": "1, 1"
         },
         "geo": "geo",
         "hovertemplate": "<b>%{hovertext}</b><br><br>Mise_en_evidence=Paris<br>Population=%{customdata[0]}<br>Latitude=%{lat}<br>Longitude=%{lon}<extra></extra>",
         "hovertext": [
          "Paris"
         ],
         "lat": {
          "bdata": "duCcEaVtSEA=",
          "dtype": "f8"
         },
         "legendgroup": "Paris",
         "lon": {
          "bdata": "qDXNO07RAkA=",
          "dtype": "f8"
         },
         "marker": {
          "color": "red",
          "size": {
           "bdata": "BmEhAA==",
           "dtype": "i4"
          },
          "sizemode": "area",
          "sizeref": 3500.0416,
          "symbol": "circle"
         },
         "mode": "markers",
         "name": "Paris",
         "showlegend": true,
         "type": "scattergeo"
        },
        {
         "customdata": {
          "bdata": "TiwNAPzfBwBBUQcAMTAFAGK4BACGSQQAH04EAOThAwBTjQMA",
          "dtype": "i4",
          "shape": "9, 1"
         },
         "geo": "geo",
         "hovertemplate": "<b>%{hovertext}</b><br><br>Mise_en_evidence=Autre ville<br>Population=%{customdata[0]}<br>Latitude=%{lat}<br>Longitude=%{lon}<extra></extra>",
         "hovertext": [
          "Marseille",
          "Lyon",
          "Toulouse",
          "Nice",
          "Nantes",
          "Strasbourg",
          "Montpellier",
          "Bordeaux",
          "Lille"
         ],
         "lat": {
          "bdata": "y6FFtvOlRUBvEoPAyuFGQBPyQc9mzUVAQs9m1efaRUAkufyH9JtHQGHD0ytlSUhAWKg1zTvORUBeS8gHPWtGQFRSJ6CJUElA",
          "dtype": "f8"
         },
         "legendgroup": "Autre ville",
         "lon": {
          "bdata": "Qj7o2ax6FUCdEaW9wVcTQJYhjnVxG/c/PzVeukkMHUCzDHGsi9v4v1JJnYAmAh9AwTkjSnsDD0B/+zpwzojiv4V80LNZdQhA",
          "dtype": "f8"
         },
         "marker": {
          "color": "blue",
          "size": {
           "bdata": "TiwNAPzfBwBBUQcAMTAFAGK4BACGSQQAH04EAOThAwBTjQMA",
           "dtype": "i4"
          },
          "sizemode": "area",
          "sizeref": 3500.0416,
          "symbol": "circle"
         },
         "mode": "markers",
         "name": "Autre ville",
         "showlegend": true,
         "type": "scattergeo"
        },
        {
         "customdata": {
          "bdata": "704DAA==",
          "dtype": "i4",
          "shape": "1, 1"
         },
         "geo": "geo",
         "hovertemplate": "<b>%{hovertext}</b><br><br>Mise_en_evidence=Rennes<br>Population=%{customdata[0]}<br>Latitude=%{lat}<br>Longitude=%{lon}<extra></extra>",
         "hovertext": [
          "Rennes"
         ],
         "lat": {
          "bdata": "EOm3rwMPSEA=",
          "dtype": "f8"
         },
         "legendgroup": "Rennes",
         "lon": {
          "bdata": "KqkT0ETY+r8=",
          "dtype": "f8"
         },
         "marker": {
          "color": "green",
          "size": {
           "bdata": "704DAA==",
           "dtype": "i4"
          },
          "sizemode": "area",
          "sizeref": 3500.0416,
          "symbol": "circle"
         },
         "mode": "markers",
         "name": "Rennes",
         "showlegend": true,
         "type": "scattergeo"
        }
       ],
       "layout": {
        "geo": {
         "center": {
          "lat": 46.8,
          "lon": 2.3522
         },
         "domain": {
          "x": [
           0,
           1
          ],
          "y": [
           0,
           1
          ]
         },
         "lataxis": {
          "range": [
           41,
           52
          ]
         },
         "lonaxis": {
          "range": [
           -5,
           10
          ]
         },
         "projection": {
          "type": "natural earth"
         },
         "scope": "europe"
        },
        "legend": {
         "itemsizing": "constant",
         "title": {
          "text": "Mise_en_evidence"
         },
         "tracegroupgap": 0
        },
        "margin": {
         "t": 60
        },
        "template": {
         "data": {
          "bar": [
           {
            "error_x": {
             "color": "#2a3f5f"
            },
            "error_y": {
             "color": "#2a3f5f"
            },
            "marker": {
             "line": {
              "color": "#E5ECF6",
              "width": 0.5
             },
             "pattern": {
              "fillmode": "overlay",
              "size": 10,
              "solidity": 0.2
             }
            },
            "type": "bar"
           }
          ],
          "barpolar": [
           {
            "marker": {
             "line": {
              "color": "#E5ECF6",
              "width": 0.5
             },
             "pattern": {
              "fillmode": "overlay",
              "size": 10,
              "solidity": 0.2
             }
            },
            "type": "barpolar"
           }
          ],
          "carpet": [
           {
            "aaxis": {
             "endlinecolor": "#2a3f5f",
             "gridcolor": "white",
             "linecolor": "white",
             "minorgridcolor": "white",
             "startlinecolor": "#2a3f5f"
            },
            "baxis": {
             "endlinecolor": "#2a3f5f",
             "gridcolor": "white",
             "linecolor": "white",
             "minorgridcolor": "white",
             "startlinecolor": "#2a3f5f"
            },
            "type": "carpet"
           }
          ],
          "choropleth": [
           {
            "colorbar": {
             "outlinewidth": 0,
             "ticks": ""
            },
            "type": "choropleth"
           }
          ],
          "contour": [
           {
            "colorbar": {
             "outlinewidth": 0,
             "ticks": ""
            },
            "colorscale": [
             [
              0,
              "#0d0887"
             ],
             [
              0.1111111111111111,
              "#46039f"
             ],
             [
              0.2222222222222222,
              "#7201a8"
             ],
             [
              0.3333333333333333,
              "#9c179e"
             ],
             [
              0.4444444444444444,
              "#bd3786"
             ],
             [
              0.5555555555555556,
              "#d8576b"
             ],
             [
              0.6666666666666666,
              "#ed7953"
             ],
             [
              0.7777777777777778,
              "#fb9f3a"
             ],
             [
              0.8888888888888888,
              "#fdca26"
             ],
             [
              1,
              "#f0f921"
             ]
            ],
            "type": "contour"
           }
          ],
          "contourcarpet": [
           {
            "colorbar": {
             "outlinewidth": 0,
             "ticks": ""
            },
            "type": "contourcarpet"
           }
          ],
          "heatmap": [
           {
            "colorbar": {
             "outlinewidth": 0,
             "ticks": ""
            },
            "colorscale": [
             [
              0,
              "#0d0887"
             ],
             [
              0.1111111111111111,
              "#46039f"
             ],
             [
              0.2222222222222222,
              "#7201a8"
             ],
             [
              0.3333333333333333,
              "#9c179e"
             ],
             [
              0.4444444444444444,
              "#bd3786"
             ],
             [
              0.5555555555555556,
              "#d8576b"
             ],
             [
              0.6666666666666666,
              "#ed7953"
             ],
             [
              0.7777777777777778,
              "#fb9f3a"
             ],
             [
              0.8888888888888888,
              "#fdca26"
             ],
             [
              1,
              "#f0f921"
             ]
            ],
            "type": "heatmap"
           }
          ],
          "histogram": [
           {
            "marker": {
             "pattern": {
              "fillmode": "overlay",
              "size": 10,
              "solidity": 0.2
             }
            },
            "type": "histogram"
           }
          ],
          "histogram2d": [
           {
            "colorbar": {
             "outlinewidth": 0,
             "ticks": ""
            },
            "colorscale": [
             [
              0,
              "#0d0887"
             ],
             [
              0.1111111111111111,
              "#46039f"
             ],
             [
              0.2222222222222222,
              "#7201a8"
             ],
             [
              0.3333333333333333,
              "#9c179e"
             ],
             [
              0.4444444444444444,
              "#bd3786"
             ],
             [
              0.5555555555555556,
              "#d8576b"
             ],
             [
              0.6666666666666666,
              "#ed7953"
             ],
             [
              0.7777777777777778,
              "#fb9f3a"
             ],
             [
              0.8888888888888888,
              "#fdca26"
             ],
             [
              1,
              "#f0f921"
             ]
            ],
            "type": "histogram2d"
           }
          ],
          "histogram2dcontour": [
           {
            "colorbar": {
             "outlinewidth": 0,
             "ticks": ""
            },
            "colorscale": [
             [
              0,
              "#0d0887"
             ],
             [
              0.1111111111111111,
              "#46039f"
             ],
             [
              0.2222222222222222,
              "#7201a8"
             ],
             [
              0.3333333333333333,
              "#9c179e"
             ],
             [
              0.4444444444444444,
              "#bd3786"
             ],
             [
              0.5555555555555556,
              "#d8576b"
             ],
             [
              0.6666666666666666,
              "#ed7953"
             ],
             [
              0.7777777777777778,
              "#fb9f3a"
             ],
             [
              0.8888888888888888,
              "#fdca26"
             ],
             [
              1,
              "#f0f921"
             ]
            ],
            "type": "histogram2dcontour"
           }
          ],
          "mesh3d": [
           {
            "colorbar": {
             "outlinewidth": 0,
             "ticks": ""
            },
            "type": "mesh3d"
           }
          ],
          "parcoords": [
           {
            "line": {
             "colorbar": {
              "outlinewidth": 0,
              "ticks": ""
             }
            },
            "type": "parcoords"
           }
          ],
          "pie": [
           {
            "automargin": true,
            "type": "pie"
           }
          ],
          "scatter": [
           {
            "fillpattern": {
             "fillmode": "overlay",
             "size": 10,
             "solidity": 0.2
            },
            "type": "scatter"
           }
          ],
          "scatter3d": [
           {
            "line": {
             "colorbar": {
              "outlinewidth": 0,
              "ticks": ""
             }
            },
            "marker": {
             "colorbar": {
              "outlinewidth": 0,
              "ticks": ""
             }
            },
            "type": "scatter3d"
           }
          ],
          "scattercarpet": [
           {
            "marker": {
             "colorbar": {
              "outlinewidth": 0,
              "ticks": ""
             }
            },
            "type": "scattercarpet"
           }
          ],
          "scattergeo": [
           {
            "marker": {
             "colorbar": {
              "outlinewidth": 0,
              "ticks": ""
             }
            },
            "type": "scattergeo"
           }
          ],
          "scattergl": [
           {
            "marker": {
             "colorbar": {
              "outlinewidth": 0,
              "ticks": ""
             }
            },
            "type": "scattergl"
           }
          ],
          "scattermap": [
           {
            "marker": {
             "colorbar": {
              "outlinewidth": 0,
              "ticks": ""
             }
            },
            "type": "scattermap"
           }
          ],
          "scattermapbox": [
           {
            "marker": {
             "colorbar": {
              "outlinewidth": 0,
              "ticks": ""
             }
            },
            "type": "scattermapbox"
           }
          ],
          "scatterpolar": [
           {
            "marker": {
             "colorbar": {
              "outlinewidth": 0,
              "ticks": ""
             }
            },
            "type": "scatterpolar"
           }
          ],
          "scatterpolargl": [
           {
            "marker": {
             "colorbar": {
              "outlinewidth": 0,
              "ticks": ""
             }
            },
            "type": "scatterpolargl"
           }
          ],
          "scatterternary": [
           {
            "marker": {
             "colorbar": {
              "outlinewidth": 0,
              "ticks": ""
             }
            },
            "type": "scatterternary"
           }
          ],
          "surface": [
           {
            "colorbar": {
             "outlinewidth": 0,
             "ticks": ""
            },
            "colorscale": [
             [
              0,
              "#0d0887"
             ],
             [
              0.1111111111111111,
              "#46039f"
             ],
             [
              0.2222222222222222,
              "#7201a8"
             ],
             [
              0.3333333333333333,
              "#9c179e"
             ],
             [
              0.4444444444444444,
              "#bd3786"
             ],
             [
              0.5555555555555556,
              "#d8576b"
             ],
             [
              0.6666666666666666,
              "#ed7953"
             ],
             [
              0.7777777777777778,
              "#fb9f3a"
             ],
             [
              0.8888888888888888,
              "#fdca26"
             ],
             [
              1,
              "#f0f921"
             ]
            ],
            "type": "surface"
           }
          ],
          "table": [
           {
            "cells": {
             "fill": {
              "color": "#EBF0F8"
             },
             "line": {
              "color": "white"
             }
            },
            "header": {
             "fill": {
              "color": "#C8D4E3"
             },
             "line": {
              "color": "white"
             }
            },
            "type": "table"
           }
          ]
         },
         "layout": {
          "annotationdefaults": {
           "arrowcolor": "#2a3f5f",
           "arrowhead": 0,
           "arrowwidth": 1
          },
          "autotypenumbers": "strict",
          "coloraxis": {
           "colorbar": {
            "outlinewidth": 0,
            "ticks": ""
           }
          },
          "colorscale": {
           "diverging": [
            [
             0,
             "#8e0152"
            ],
            [
             0.1,
             "#c51b7d"
            ],
            [
             0.2,
             "#de77ae"
            ],
            [
             0.3,
             "#f1b6da"
            ],
            [
             0.4,
             "#fde0ef"
            ],
            [
             0.5,
             "#f7f7f7"
            ],
            [
             0.6,
             "#e6f5d0"
            ],
            [
             0.7,
             "#b8e186"
            ],
            [
             0.8,
             "#7fbc41"
            ],
            [
             0.9,
             "#4d9221"
            ],
            [
             1,
             "#276419"
            ]
           ],
           "sequential": [
            [
             0,
             "#0d0887"
            ],
            [
             0.1111111111111111,
             "#46039f"
            ],
            [
             0.2222222222222222,
             "#7201a8"
            ],
            [
             0.3333333333333333,
             "#9c179e"
            ],
            [
             0.4444444444444444,
             "#bd3786"
            ],
            [
             0.5555555555555556,
             "#d8576b"
            ],
            [
             0.6666666666666666,
             "#ed7953"
            ],
            [
             0.7777777777777778,
             "#fb9f3a"
            ],
            [
             0.8888888888888888,
             "#fdca26"
            ],
            [
             1,
             "#f0f921"
            ]
           ],
           "sequentialminus": [
            [
             0,
             "#0d0887"
            ],
            [
             0.1111111111111111,
             "#46039f"
            ],
            [
             0.2222222222222222,
             "#7201a8"
            ],
            [
             0.3333333333333333,
             "#9c179e"
            ],
            [
             0.4444444444444444,
             "#bd3786"
            ],
            [
             0.5555555555555556,
             "#d8576b"
            ],
            [
             0.6666666666666666,
             "#ed7953"
            ],
            [
             0.7777777777777778,
             "#fb9f3a"
            ],
            [
             0.8888888888888888,
             "#fdca26"
            ],
            [
             1,
             "#f0f921"
            ]
           ]
          },
          "colorway": [
           "#636efa",
           "#EF553B",
           "#00cc96",
           "#ab63fa",
           "#FFA15A",
           "#19d3f3",
           "#FF6692",
           "#B6E880",
           "#FF97FF",
           "#FECB52"
          ],
          "font": {
           "color": "#2a3f5f"
          },
          "geo": {
           "bgcolor": "white",
           "lakecolor": "white",
           "landcolor": "#E5ECF6",
           "showlakes": true,
           "showland": true,
           "subunitcolor": "white"
          },
          "hoverlabel": {
           "align": "left"
          },
          "hovermode": "closest",
          "mapbox": {
           "style": "light"
          },
          "paper_bgcolor": "white",
          "plot_bgcolor": "#E5ECF6",
          "polar": {
           "angularaxis": {
            "gridcolor": "white",
            "linecolor": "white",
            "ticks": ""
           },
           "bgcolor": "#E5ECF6",
           "radialaxis": {
            "gridcolor": "white",
            "linecolor": "white",
            "ticks": ""
           }
          },
          "scene": {
           "xaxis": {
            "backgroundcolor": "#E5ECF6",
            "gridcolor": "white",
            "gridwidth": 2,
            "linecolor": "white",
            "showbackground": true,
            "ticks": "",
            "zerolinecolor": "white"
           },
           "yaxis": {
            "backgroundcolor": "#E5ECF6",
            "gridcolor": "white",
            "gridwidth": 2,
            "linecolor": "white",
            "showbackground": true,
            "ticks": "",
            "zerolinecolor": "white"
           },
           "zaxis": {
            "backgroundcolor": "#E5ECF6",
            "gridcolor": "white",
            "gridwidth": 2,
            "linecolor": "white",
            "showbackground": true,
            "ticks": "",
            "zerolinecolor": "white"
           }
          },
          "shapedefaults": {
           "line": {
            "color": "#2a3f5f"
           }
          },
          "ternary": {
           "aaxis": {
            "gridcolor": "white",
            "linecolor": "white",
            "ticks": ""
           },
           "baxis": {
            "gridcolor": "white",
            "linecolor": "white",
            "ticks": ""
           },
           "bgcolor": "#E5ECF6",
           "caxis": {
            "gridcolor": "white",
            "linecolor": "white",
            "ticks": ""
           }
          },
          "title": {
           "x": 0.05
          },
          "xaxis": {
           "automargin": true,
           "gridcolor": "white",
           "linecolor": "white",
           "ticks": "",
           "title": {
            "standoff": 15
           },
           "zerolinecolor": "white",
           "zerolinewidth": 2
          },
          "yaxis": {
           "automargin": true,
           "gridcolor": "white",
           "linecolor": "white",
           "ticks": "",
           "title": {
            "standoff": 15
           },
           "zerolinecolor": "white",
           "zerolinewidth": 2
          }
         }
        },
        "title": {
         "text": "Principales villes françaises par population (Rennes en vert)",
         "x": 0.5
        }
       }
      }
     },
     "metadata": {},
     "output_type": "display_data"
    }
   ],
   "source": [
    "# Ajout d'une colonne pour mettre en évidence Rennes\n",
    "df['Mise_en_evidence'] = ['Paris' if ville == 'Paris' else 'Rennes' if ville == 'Rennes' else 'Autre ville' for ville in df['Ville']]\n",
    "\n",
    "# Création d'une carte avec Plotly Express\n",
    "fig = px.scatter_geo(\n",
    "    df, \n",
    "    lat='Latitude', \n",
    "    lon='Longitude',\n",
    "    hover_name='Ville',\n",
    "    size='Population',  # Taille des points proportionnelle à la population\n",
    "    color='Mise_en_evidence',  # Couleur basée sur notre nouvelle colonne\n",
    "    projection='natural earth',\n",
    "    scope='europe',  # Nous nous concentrons sur l'Europe\n",
    "    size_max=25,  # Taille maximale des points\n",
    "    hover_data=['Population'],  # Données supplémentaires à afficher au survol\n",
    "    color_discrete_map={'Paris': 'red', 'Rennes': 'green', 'Autre ville': 'blue'}\n",
    ")\n",
    "\n",
    "# Centrer la vue sur la France\n",
    "fig.update_geos(\n",
    "    center=dict(lon=2.3522, lat=46.8),\n",
    "    lataxis_range=[41, 52],\n",
    "    lonaxis_range=[-5, 10]\n",
    ")\n",
    "\n",
    "# Ajuster le titre\n",
    "fig.update_layout(\n",
    "    title='Principales villes françaises par population (Rennes en vert)',\n",
    "    title_x=0.5  # Centrer le titre\n",
    ")\n",
    "\n",
    "fig.show()\n"
   ]
  },
  {
   "cell_type": "raw",
   "metadata": {
    "vscode": {
     "languageId": "raw"
    }
   },
   "source": [
    "## 4. Visualisation avec Matplotlib\n",
    "\n",
    "Matplotlib peut également être utilisé pour créer des cartes, bien qu'elles ne soient pas interactives comme celles de Folium ou Plotly.\n"
   ]
  },
  {
   "cell_type": "code",
   "execution_count": 33,
   "metadata": {},
   "outputs": [
    {
     "data": {
      "image/png": "[encoded data removed]",
      "text/plain": [
       "<Figure size 1000x800 with 1 Axes>"
      ]
     },
     "metadata": {},
     "output_type": "display_data"
    }
   ],
   "source": [
    "# Création d'une carte simple avec Matplotlib\n",
    "plt.figure(figsize=(10, 8))\n",
    "\n",
    "# Définir des couleurs pour chaque ville\n",
    "colors = []\n",
    "for ville in df['Ville']:\n",
    "    if ville == 'Paris':\n",
    "        colors.append('red')\n",
    "    elif ville == 'Rennes':\n",
    "        colors.append('green')\n",
    "    else:\n",
    "        colors.append('blue')\n",
    "\n",
    "# Tracer les points des villes\n",
    "plt.scatter(df['Longitude'], df['Latitude'], s=df['Population']/10000, alpha=0.6, c=colors)\n",
    "\n",
    "# Ajouter des étiquettes pour chaque ville\n",
    "for i, row in df.iterrows():\n",
    "    plt.annotate(row['Ville'], \n",
    "                 (row['Longitude'], row['Latitude']),\n",
    "                 fontsize=9,\n",
    "                 xytext=(5, 5),\n",
    "                 textcoords='offset points')\n",
    "\n",
    "# Ajouter un titre et des étiquettes d'axes\n",
    "plt.title('Carte des principales villes françaises (Rennes en vert)')\n",
    "plt.xlabel('Longitude')\n",
    "plt.ylabel('Latitude')\n",
    "\n",
    "# Ajouter une légende pour les tailles\n",
    "sizes = [100000, 500000, 1000000, 2000000]\n",
    "for size in sizes:\n",
    "    plt.scatter([], [], s=size/10000, c='gray', alpha=0.6, label=f'{size:,} habitants')\n",
    "plt.legend(scatterpoints=1, frameon=False, labelspacing=1, title='Population')\n",
    "\n",
    "plt.grid(True, linestyle='--', alpha=0.7)\n",
    "plt.tight_layout()\n",
    "plt.show()\n"
   ]
  },
  {
   "cell_type": "raw",
   "metadata": {
    "vscode": {
     "languageId": "raw"
    }
   },
   "source": [
    "## 5. Focus sur Rennes et les villes de l'Ouest\n",
    "\n",
    "Créons une visualisation spécifique centrée sur Rennes et les villes de l'Ouest de la France.\n"
   ]
  },
  {
   "cell_type": "code",
   "execution_count": 34,
   "metadata": {},
   "outputs": [
    {
     "data": {
      "text/html": [
       "<div>\n",
       "<style scoped>\n",
       "    .dataframe tbody tr th:only-of-type {\n",
       "        vertical-align: middle;\n",
       "    }\n",
       "\n",
       "    .dataframe tbody tr th {\n",
       "        vertical-align: top;\n",
       "    }\n",
       "\n",
       "    .dataframe thead th {\n",
       "        text-align: right;\n",
       "    }\n",
       "</style>\n",
       "<table border=\"1\" class=\"dataframe\">\n",
       "  <thead>\n",
       "    <tr style=\"text-align: right;\">\n",
       "      <th></th>\n",
       "      <th>Ville</th>\n",
       "      <th>Latitude</th>\n",
       "      <th>Longitude</th>\n",
       "      <th>Population</th>\n",
       "      <th>Catégorie</th>\n",
       "      <th>Mise_en_evidence</th>\n",
       "    </tr>\n",
       "  </thead>\n",
       "  <tbody>\n",
       "    <tr>\n",
       "      <th>5</th>\n",
       "      <td>Nantes</td>\n",
       "      <td>47.2184</td>\n",
       "      <td>-1.5536</td>\n",
       "      <td>309346</td>\n",
       "      <td>Métropole</td>\n",
       "      <td>Autre ville</td>\n",
       "    </tr>\n",
       "    <tr>\n",
       "      <th>8</th>\n",
       "      <td>Bordeaux</td>\n",
       "      <td>44.8378</td>\n",
       "      <td>-0.5792</td>\n",
       "      <td>254436</td>\n",
       "      <td>Métropole</td>\n",
       "      <td>Autre ville</td>\n",
       "    </tr>\n",
       "    <tr>\n",
       "      <th>10</th>\n",
       "      <td>Rennes</td>\n",
       "      <td>48.1173</td>\n",
       "      <td>-1.6778</td>\n",
       "      <td>216815</td>\n",
       "      <td>Métropole</td>\n",
       "      <td>Rennes</td>\n",
       "    </tr>\n",
       "  </tbody>\n",
       "</table>\n",
       "</div>"
      ],
      "text/plain": [
       "       Ville  Latitude  Longitude  Population  Catégorie Mise_en_evidence\n",
       "5     Nantes   47.2184    -1.5536      309346  Métropole      Autre ville\n",
       "8   Bordeaux   44.8378    -0.5792      254436  Métropole      Autre ville\n",
       "10    Rennes   48.1173    -1.6778      216815  Métropole           Rennes"
      ]
     },
     "execution_count": 34,
     "metadata": {},
     "output_type": "execute_result"
    }
   ],
   "source": [
    "# Filtrer les villes de l'Ouest (longitude négative)\n",
    "villes_ouest = df[df['Longitude'] < 0].copy()\n",
    "villes_ouest\n"
   ]
  },
  {
   "cell_type": "code",
   "execution_count": 35,
   "metadata": {},
   "outputs": [
    {
     "data": {
      "text/html": [
       "<div style=\"width:100%;\"><div style=\"position:relative;width:100%;height:0;padding-bottom:60%;\"><span style=\"color:#565656\">Make this Notebook Trusted to load map: File -> Trust Notebook</span><iframe srcdoc=\"&lt;!DOCTYPE html&gt;\n",
       "&lt;html&gt;\n",
       "&lt;head&gt;\n",
       "    \n",
       "    &lt;meta http-equiv=&quot;content-type&quot; content=&quot;text/html; charset=UTF-8&quot; /&gt;\n",
       "    &lt;script src=&quot;https://cdn.jsdelivr.net/npm/leaflet@1.9.3/dist/leaflet.js&quot;&gt;&lt;/script&gt;\n",
       "    &lt;script src=&quot;https://code.jquery.com/jquery-3.7.1.min.js&quot;&gt;&lt;/script&gt;\n",
       "    &lt;script src=&quot;https://cdn.jsdelivr.net/npm/bootstrap@5.2.2/dist/js/bootstrap.bundle.min.js&quot;&gt;&lt;/script&gt;\n",
       "    &lt;script src=&quot;https://cdnjs.cloudflare.com/ajax/libs/Leaflet.awesome-markers/2.0.2/leaflet.awesome-markers.js&quot;&gt;&lt;/script&gt;\n",
       "    &lt;link rel=&quot;stylesheet&quot; href=&quot;https://cdn.jsdelivr.net/npm/leaflet@1.9.3/dist/leaflet.css&quot;/&gt;\n",
       "    &lt;link rel=&quot;stylesheet&quot; href=&quot;https://cdn.jsdelivr.net/npm/bootstrap@5.2.2/dist/css/bootstrap.min.css&quot;/&gt;\n",
       "    &lt;link rel=&quot;stylesheet&quot; href=&quot;https://netdna.bootstrapcdn.com/bootstrap/3.0.0/css/bootstrap-glyphicons.css&quot;/&gt;\n",
       "    &lt;link rel=&quot;stylesheet&quot; href=&quot;https://cdn.jsdelivr.net/npm/@fortawesome/fontawesome-free@6.2.0/css/all.min.css&quot;/&gt;\n",
       "    &lt;link rel=&quot;stylesheet&quot; href=&quot;https://cdnjs.cloudflare.com/ajax/libs/Leaflet.awesome-markers/2.0.2/leaflet.awesome-markers.css&quot;/&gt;\n",
       "    &lt;link rel=&quot;stylesheet&quot; href=&quot;https://cdn.jsdelivr.net/gh/python-visualization/folium/folium/templates/leaflet.awesome.rotate.min.css&quot;/&gt;\n",
       "    \n",
       "            &lt;meta name=&quot;viewport&quot; content=&quot;width=device-width,\n",
       "                initial-scale=1.0, maximum-scale=1.0, user-scalable=no&quot; /&gt;\n",
       "            &lt;style&gt;\n",
       "                #map_c9b313e9072b10d8bedca499858320fd {\n",
       "                    position: relative;\n",
       "                    width: 100.0%;\n",
       "                    height: 100.0%;\n",
       "                    left: 0.0%;\n",
       "                    top: 0.0%;\n",
       "                }\n",
       "                .leaflet-container { font-size: 1rem; }\n",
       "            &lt;/style&gt;\n",
       "\n",
       "            &lt;style&gt;html, body {\n",
       "                width: 100%;\n",
       "                height: 100%;\n",
       "                margin: 0;\n",
       "                padding: 0;\n",
       "            }\n",
       "            &lt;/style&gt;\n",
       "\n",
       "            &lt;style&gt;#map {\n",
       "                position:absolute;\n",
       "                top:0;\n",
       "                bottom:0;\n",
       "                right:0;\n",
       "                left:0;\n",
       "                }\n",
       "            &lt;/style&gt;\n",
       "\n",
       "            &lt;script&gt;\n",
       "                L_NO_TOUCH = false;\n",
       "                L_DISABLE_3D = false;\n",
       "            &lt;/script&gt;\n",
       "\n",
       "        \n",
       "&lt;/head&gt;\n",
       "&lt;body&gt;\n",
       "    \n",
       "    \n",
       "            &lt;div class=&quot;folium-map&quot; id=&quot;map_c9b313e9072b10d8bedca499858320fd&quot; &gt;&lt;/div&gt;\n",
       "        \n",
       "&lt;/body&gt;\n",
       "&lt;script&gt;\n",
       "    \n",
       "    \n",
       "            var map_c9b313e9072b10d8bedca499858320fd = L.map(\n",
       "                &quot;map_c9b313e9072b10d8bedca499858320fd&quot;,\n",
       "                {\n",
       "                    center: [47.2, -1.5],\n",
       "                    crs: L.CRS.EPSG3857,\n",
       "                    ...{\n",
       "  &quot;zoom&quot;: 7,\n",
       "  &quot;zoomControl&quot;: true,\n",
       "  &quot;preferCanvas&quot;: false,\n",
       "}\n",
       "\n",
       "                }\n",
       "            );\n",
       "\n",
       "            \n",
       "\n",
       "        \n",
       "    \n",
       "            var tile_layer_d0eacaf799970b7a8e80172c096ca603 = L.tileLayer(\n",
       "                &quot;https://tile.openstreetmap.org/{z}/{x}/{y}.png&quot;,\n",
       "                {\n",
       "  &quot;minZoom&quot;: 0,\n",
       "  &quot;maxZoom&quot;: 19,\n",
       "  &quot;maxNativeZoom&quot;: 19,\n",
       "  &quot;noWrap&quot;: false,\n",
       "  &quot;attribution&quot;: &quot;\\u0026copy; \\u003ca href=\\&quot;https://www.openstreetmap.org/copyright\\&quot;\\u003eOpenStreetMap\\u003c/a\\u003e contributors&quot;,\n",
       "  &quot;subdomains&quot;: &quot;abc&quot;,\n",
       "  &quot;detectRetina&quot;: false,\n",
       "  &quot;tms&quot;: false,\n",
       "  &quot;opacity&quot;: 1,\n",
       "}\n",
       "\n",
       "            );\n",
       "        \n",
       "    \n",
       "            tile_layer_d0eacaf799970b7a8e80172c096ca603.addTo(map_c9b313e9072b10d8bedca499858320fd);\n",
       "        \n",
       "    \n",
       "            var marker_2402a849c0dc76d67357bd41fac08bcc = L.marker(\n",
       "                [47.2184, -1.5536],\n",
       "                {\n",
       "}\n",
       "            ).addTo(map_c9b313e9072b10d8bedca499858320fd);\n",
       "        \n",
       "    \n",
       "            var icon_0c4a51a7bb9c12d9d329cc7c994b8744 = L.AwesomeMarkers.icon(\n",
       "                {\n",
       "  &quot;markerColor&quot;: &quot;blue&quot;,\n",
       "  &quot;iconColor&quot;: &quot;white&quot;,\n",
       "  &quot;icon&quot;: &quot;info-sign&quot;,\n",
       "  &quot;prefix&quot;: &quot;glyphicon&quot;,\n",
       "  &quot;extraClasses&quot;: &quot;fa-rotate-0&quot;,\n",
       "}\n",
       "            );\n",
       "        \n",
       "    \n",
       "        var popup_57a27d80b6a46626858a0b6d0b257dc0 = L.popup({\n",
       "  &quot;maxWidth&quot;: &quot;100%&quot;,\n",
       "});\n",
       "\n",
       "        \n",
       "            \n",
       "                var html_1b8767d68534f190bbd454860cb3e027 = $(`&lt;div id=&quot;html_1b8767d68534f190bbd454860cb3e027&quot; style=&quot;width: 100.0%; height: 100.0%;&quot;&gt;     &lt;b&gt;Nantes&lt;/b&gt;&lt;br&gt;     Population: 309,346&lt;br&gt;     Catégorie: Métropole     &lt;/div&gt;`)[0];\n",
       "                popup_57a27d80b6a46626858a0b6d0b257dc0.setContent(html_1b8767d68534f190bbd454860cb3e027);\n",
       "            \n",
       "        \n",
       "\n",
       "        marker_2402a849c0dc76d67357bd41fac08bcc.bindPopup(popup_57a27d80b6a46626858a0b6d0b257dc0)\n",
       "        ;\n",
       "\n",
       "        \n",
       "    \n",
       "    \n",
       "                marker_2402a849c0dc76d67357bd41fac08bcc.setIcon(icon_0c4a51a7bb9c12d9d329cc7c994b8744);\n",
       "            \n",
       "    \n",
       "            var marker_a7e8776992f95f2e4f82a0435d24c7ab = L.marker(\n",
       "                [44.8378, -0.5792],\n",
       "                {\n",
       "}\n",
       "            ).addTo(map_c9b313e9072b10d8bedca499858320fd);\n",
       "        \n",
       "    \n",
       "            var icon_920464c8db59f7cd0f150504306d389a = L.AwesomeMarkers.icon(\n",
       "                {\n",
       "  &quot;markerColor&quot;: &quot;blue&quot;,\n",
       "  &quot;iconColor&quot;: &quot;white&quot;,\n",
       "  &quot;icon&quot;: &quot;info-sign&quot;,\n",
       "  &quot;prefix&quot;: &quot;glyphicon&quot;,\n",
       "  &quot;extraClasses&quot;: &quot;fa-rotate-0&quot;,\n",
       "}\n",
       "            );\n",
       "        \n",
       "    \n",
       "        var popup_b085d2376c2300894eae4fa13bef821b = L.popup({\n",
       "  &quot;maxWidth&quot;: &quot;100%&quot;,\n",
       "});\n",
       "\n",
       "        \n",
       "            \n",
       "                var html_886a94cc6a23adb19df3d08ab9d5534d = $(`&lt;div id=&quot;html_886a94cc6a23adb19df3d08ab9d5534d&quot; style=&quot;width: 100.0%; height: 100.0%;&quot;&gt;     &lt;b&gt;Bordeaux&lt;/b&gt;&lt;br&gt;     Population: 254,436&lt;br&gt;     Catégorie: Métropole     &lt;/div&gt;`)[0];\n",
       "                popup_b085d2376c2300894eae4fa13bef821b.setContent(html_886a94cc6a23adb19df3d08ab9d5534d);\n",
       "            \n",
       "        \n",
       "\n",
       "        marker_a7e8776992f95f2e4f82a0435d24c7ab.bindPopup(popup_b085d2376c2300894eae4fa13bef821b)\n",
       "        ;\n",
       "\n",
       "        \n",
       "    \n",
       "    \n",
       "                marker_a7e8776992f95f2e4f82a0435d24c7ab.setIcon(icon_920464c8db59f7cd0f150504306d389a);\n",
       "            \n",
       "    \n",
       "            var marker_e34b5d2c974de79fbc7bad1eb9a07cad = L.marker(\n",
       "                [48.1173, -1.6778],\n",
       "                {\n",
       "}\n",
       "            ).addTo(map_c9b313e9072b10d8bedca499858320fd);\n",
       "        \n",
       "    \n",
       "            var icon_c448cbb0905a6345ed387209e18d9c6d = L.AwesomeMarkers.icon(\n",
       "                {\n",
       "  &quot;markerColor&quot;: &quot;green&quot;,\n",
       "  &quot;iconColor&quot;: &quot;white&quot;,\n",
       "  &quot;icon&quot;: &quot;star&quot;,\n",
       "  &quot;prefix&quot;: &quot;fa&quot;,\n",
       "  &quot;extraClasses&quot;: &quot;fa-rotate-0&quot;,\n",
       "}\n",
       "            );\n",
       "        \n",
       "    \n",
       "        var popup_6f4fee2fff50cf12ff3a5f6a48a21296 = L.popup({\n",
       "  &quot;maxWidth&quot;: &quot;100%&quot;,\n",
       "});\n",
       "\n",
       "        \n",
       "            \n",
       "                var html_979907ed1732e51c6c04d930db7e96e5 = $(`&lt;div id=&quot;html_979907ed1732e51c6c04d930db7e96e5&quot; style=&quot;width: 100.0%; height: 100.0%;&quot;&gt;     &lt;b&gt;Rennes&lt;/b&gt;&lt;br&gt;     Population: 216,815&lt;br&gt;     Catégorie: Métropole     &lt;/div&gt;`)[0];\n",
       "                popup_6f4fee2fff50cf12ff3a5f6a48a21296.setContent(html_979907ed1732e51c6c04d930db7e96e5);\n",
       "            \n",
       "        \n",
       "\n",
       "        marker_e34b5d2c974de79fbc7bad1eb9a07cad.bindPopup(popup_6f4fee2fff50cf12ff3a5f6a48a21296)\n",
       "        ;\n",
       "\n",
       "        \n",
       "    \n",
       "    \n",
       "                marker_e34b5d2c974de79fbc7bad1eb9a07cad.setIcon(icon_c448cbb0905a6345ed387209e18d9c6d);\n",
       "            \n",
       "    \n",
       "            var circle_8ae6c863a18a0edb9c670c0ae155069d = L.circle(\n",
       "                [48.1173, -1.6778],\n",
       "                {&quot;bubblingMouseEvents&quot;: true, &quot;color&quot;: &quot;green&quot;, &quot;dashArray&quot;: null, &quot;dashOffset&quot;: null, &quot;fill&quot;: true, &quot;fillColor&quot;: &quot;green&quot;, &quot;fillOpacity&quot;: 0.2, &quot;fillRule&quot;: &quot;evenodd&quot;, &quot;lineCap&quot;: &quot;round&quot;, &quot;lineJoin&quot;: &quot;round&quot;, &quot;opacity&quot;: 1.0, &quot;radius&quot;: 30000, &quot;stroke&quot;: true, &quot;weight&quot;: 3}\n",
       "            ).addTo(map_c9b313e9072b10d8bedca499858320fd);\n",
       "        \n",
       "    \n",
       "        var popup_074f7af9bfe9c79425a114a6a8ea91c2 = L.popup({\n",
       "  &quot;maxWidth&quot;: &quot;100%&quot;,\n",
       "});\n",
       "\n",
       "        \n",
       "            \n",
       "                var html_e6d5ccc0bb49664b344fdb0eef862a73 = $(`&lt;div id=&quot;html_e6d5ccc0bb49664b344fdb0eef862a73&quot; style=&quot;width: 100.0%; height: 100.0%;&quot;&gt;Zone d&#x27;influence de Rennes (30 km)&lt;/div&gt;`)[0];\n",
       "                popup_074f7af9bfe9c79425a114a6a8ea91c2.setContent(html_e6d5ccc0bb49664b344fdb0eef862a73);\n",
       "            \n",
       "        \n",
       "\n",
       "        circle_8ae6c863a18a0edb9c670c0ae155069d.bindPopup(popup_074f7af9bfe9c79425a114a6a8ea91c2)\n",
       "        ;\n",
       "\n",
       "        \n",
       "    \n",
       "    \n",
       "            var poly_line_aa2c9c5188b66f329b1f5fa0e9070174 = L.polyline(\n",
       "                [[48.1173, -1.6778], [47.2184, -1.5536]],\n",
       "                {&quot;bubblingMouseEvents&quot;: true, &quot;color&quot;: &quot;purple&quot;, &quot;dashArray&quot;: null, &quot;dashOffset&quot;: null, &quot;fill&quot;: false, &quot;fillColor&quot;: &quot;purple&quot;, &quot;fillOpacity&quot;: 0.2, &quot;fillRule&quot;: &quot;evenodd&quot;, &quot;lineCap&quot;: &quot;round&quot;, &quot;lineJoin&quot;: &quot;round&quot;, &quot;noClip&quot;: false, &quot;opacity&quot;: 0.7, &quot;smoothFactor&quot;: 1.0, &quot;stroke&quot;: true, &quot;weight&quot;: 2}\n",
       "            ).addTo(map_c9b313e9072b10d8bedca499858320fd);\n",
       "        \n",
       "    \n",
       "        var popup_157bf1e931afa53a405d3d67a30ae3c5 = L.popup({\n",
       "  &quot;maxWidth&quot;: &quot;100%&quot;,\n",
       "});\n",
       "\n",
       "        \n",
       "            \n",
       "                var html_152c07200878774cb60bc58b9e8eff01 = $(`&lt;div id=&quot;html_152c07200878774cb60bc58b9e8eff01&quot; style=&quot;width: 100.0%; height: 100.0%;&quot;&gt;Distance Rennes - Nantes&lt;/div&gt;`)[0];\n",
       "                popup_157bf1e931afa53a405d3d67a30ae3c5.setContent(html_152c07200878774cb60bc58b9e8eff01);\n",
       "            \n",
       "        \n",
       "\n",
       "        poly_line_aa2c9c5188b66f329b1f5fa0e9070174.bindPopup(popup_157bf1e931afa53a405d3d67a30ae3c5)\n",
       "        ;\n",
       "\n",
       "        \n",
       "    \n",
       "    \n",
       "            var poly_line_e8db04b1469013ec04d8bec71c5e1522 = L.polyline(\n",
       "                [[48.1173, -1.6778], [44.8378, -0.5792]],\n",
       "                {&quot;bubblingMouseEvents&quot;: true, &quot;color&quot;: &quot;purple&quot;, &quot;dashArray&quot;: null, &quot;dashOffset&quot;: null, &quot;fill&quot;: false, &quot;fillColor&quot;: &quot;purple&quot;, &quot;fillOpacity&quot;: 0.2, &quot;fillRule&quot;: &quot;evenodd&quot;, &quot;lineCap&quot;: &quot;round&quot;, &quot;lineJoin&quot;: &quot;round&quot;, &quot;noClip&quot;: false, &quot;opacity&quot;: 0.7, &quot;smoothFactor&quot;: 1.0, &quot;stroke&quot;: true, &quot;weight&quot;: 2}\n",
       "            ).addTo(map_c9b313e9072b10d8bedca499858320fd);\n",
       "        \n",
       "    \n",
       "        var popup_b12dd796fe3863ede3b93a0949b374c3 = L.popup({\n",
       "  &quot;maxWidth&quot;: &quot;100%&quot;,\n",
       "});\n",
       "\n",
       "        \n",
       "            \n",
       "                var html_c35cba4632f2620298cf1689ebae485e = $(`&lt;div id=&quot;html_c35cba4632f2620298cf1689ebae485e&quot; style=&quot;width: 100.0%; height: 100.0%;&quot;&gt;Distance Rennes - Bordeaux&lt;/div&gt;`)[0];\n",
       "                popup_b12dd796fe3863ede3b93a0949b374c3.setContent(html_c35cba4632f2620298cf1689ebae485e);\n",
       "            \n",
       "        \n",
       "\n",
       "        poly_line_e8db04b1469013ec04d8bec71c5e1522.bindPopup(popup_b12dd796fe3863ede3b93a0949b374c3)\n",
       "        ;\n",
       "\n",
       "        \n",
       "    \n",
       "&lt;/script&gt;\n",
       "&lt;/html&gt;\" style=\"position:absolute;width:100%;height:100%;left:0;top:0;border:none !important;\" allowfullscreen webkitallowfullscreen mozallowfullscreen></iframe></div></div>"
      ],
      "text/plain": [
       "<folium.folium.Map at 0x1ffcc9ae110>"
      ]
     },
     "execution_count": 35,
     "metadata": {},
     "output_type": "execute_result"
    }
   ],
   "source": [
    "# Création d'une carte focalisée sur l'Ouest de la France\n",
    "m_ouest = folium.Map(location=[47.2, -1.5], zoom_start=7)  # Centré approximativement sur Nantes\n",
    "\n",
    "# Ajouter des marqueurs pour les villes de l'Ouest\n",
    "for idx, row in villes_ouest.iterrows():\n",
    "    popup_text = f\"\"\"\n",
    "    <b>{row['Ville']}</b><br>\n",
    "    Population: {row['Population']:,}<br>\n",
    "    Catégorie: {row['Catégorie']}\n",
    "    \"\"\"\n",
    "    \n",
    "    # Mise en évidence spéciale pour Rennes\n",
    "    if row['Ville'] == 'Rennes':\n",
    "        folium.Marker(\n",
    "            location=[row['Latitude'], row['Longitude']],\n",
    "            popup=popup_text,\n",
    "            icon=folium.Icon(color='green', icon='star', prefix='fa')\n",
    "        ).add_to(m_ouest)\n",
    "        \n",
    "        # Ajouter un cercle autour de Rennes\n",
    "        folium.Circle(\n",
    "            location=[row['Latitude'], row['Longitude']],\n",
    "            radius=30000,  # 30 km\n",
    "            color='green',\n",
    "            fill=True,\n",
    "            fill_opacity=0.2,\n",
    "            popup='Zone d\\'influence de Rennes (30 km)'\n",
    "        ).add_to(m_ouest)\n",
    "    else:\n",
    "        folium.Marker(\n",
    "            location=[row['Latitude'], row['Longitude']],\n",
    "            popup=popup_text,\n",
    "            icon=folium.Icon(color='blue', icon='info-sign')\n",
    "        ).add_to(m_ouest)\n",
    "\n",
    "# Ajouter une ligne entre Rennes et les autres villes de l'Ouest\n",
    "rennes_coords = [48.1173, -1.6778]  # Coordonnées de Rennes\n",
    "\n",
    "for idx, row in villes_ouest.iterrows():\n",
    "    if row['Ville'] != 'Rennes':\n",
    "        folium.PolyLine(\n",
    "            locations=[rennes_coords, [row['Latitude'], row['Longitude']]],\n",
    "            color='purple',\n",
    "            weight=2,\n",
    "            opacity=0.7,\n",
    "            popup=f\"Distance Rennes - {row['Ville']}\"\n",
    "        ).add_to(m_ouest)\n",
    "\n",
    "# Affichage de la carte\n",
    "m_ouest\n"
   ]
  },
  {
   "cell_type": "raw",
   "metadata": {
    "vscode": {
     "languageId": "raw"
    }
   },
   "source": [
    "## 6. Analyse comparative de Rennes\n",
    "\n",
    "Comparons Rennes avec les autres grandes villes françaises.\n"
   ]
  },
  {
   "cell_type": "code",
   "execution_count": 36,
   "metadata": {},
   "outputs": [
    {
     "data": {
      "image/png": "[encoded data removed]",
      "text/plain": [
       "<Figure size 1200x600 with 1 Axes>"
      ]
     },
     "metadata": {},
     "output_type": "display_data"
    }
   ],
   "source": [
    "# Graphique comparatif des populations\n",
    "plt.figure(figsize=(12, 6))\n",
    "\n",
    "# Trier par population décroissante\n",
    "df_sorted = df.sort_values('Population', ascending=False)\n",
    "\n",
    "# Créer le graphique à barres\n",
    "bars = plt.bar(df_sorted['Ville'], df_sorted['Population'] / 1000)\n",
    "\n",
    "# Colorer la barre de Rennes en vert\n",
    "for i, ville in enumerate(df_sorted['Ville']):\n",
    "    if ville == 'Rennes':\n",
    "        bars[i].set_color('green')\n",
    "    elif ville == 'Paris':\n",
    "        bars[i].set_color('red')\n",
    "    else:\n",
    "        bars[i].set_color('blue')\n",
    "\n",
    "plt.title('Population des principales villes françaises (en milliers d\\'habitants)')\n",
    "plt.ylabel('Population (milliers)')\n",
    "plt.xticks(rotation=45, ha='right')\n",
    "plt.grid(axis='y', linestyle='--', alpha=0.7)\n",
    "\n",
    "# Ajouter les valeurs au-dessus des barres\n",
    "for bar in bars:\n",
    "    height = bar.get_height()\n",
    "    plt.text(bar.get_x() + bar.get_width()/2., height + 5,\n",
    "            f'{int(height):,}',\n",
    "            ha='center', va='bottom', rotation=0)\n",
    "\n",
    "# Ajouter une ligne horizontale pour la population de Rennes\n",
    "rennes_pop = df[df['Ville'] == 'Rennes']['Population'].values[0] / 1000\n",
    "plt.axhline(y=rennes_pop, color='green', linestyle='--', alpha=0.5)\n",
    "plt.text(len(df) - 1, rennes_pop + 10, f'Rennes: {int(rennes_pop):,}', color='green')\n",
    "\n",
    "plt.tight_layout()\n",
    "plt.show()\n"
   ]
  },
  {
   "cell_type": "raw",
   "metadata": {
    "vscode": {
     "languageId": "raw"
    }
   },
   "source": [
    "## 7. Conclusion\n",
    "\n",
    "Ce notebook a présenté plusieurs façons de visualiser des données géographiques en Python, avec une mise en évidence spéciale pour la ville de Rennes :\n",
    "\n",
    "1. **Folium** pour des cartes interactives avec des marqueurs et des clusters\n",
    "2. **Plotly Express** pour des visualisations interactives avec des couleurs personnalisées\n",
    "3. **Matplotlib** pour des visualisations statiques et des graphiques comparatifs\n",
    "4. Focus spécial sur Rennes et les villes de l'Ouest avec des connexions et zones d'influence\n",
    "\n",
    "Ces outils permettent de créer des visualisations riches et informatives adaptées à différents contextes d'analyse.\n"
   ]
  }
 ],
 "metadata": {
  "kernelspec": {
   "display_name": "Python 3 (ipykernel)",
   "language": "python",
   "name": "python3"
  },
  "language_info": {
   "codemirror_mode": {
    "name": "ipython",
    "version": 3
   },
   "file_extension": ".py",
   "mimetype": "text/x-python",
   "name": "python",
   "nbconvert_exporter": "python",
   "pygments_lexer": "ipython3",
   "version": "3.11.9"
  }
 },
 "nbformat": 4,
 "nbformat_minor": 4
}
